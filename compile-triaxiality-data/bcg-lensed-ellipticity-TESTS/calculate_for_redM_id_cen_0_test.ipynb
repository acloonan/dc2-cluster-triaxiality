{
 "cells": [
  {
   "cell_type": "markdown",
   "metadata": {},
   "source": [
    "## Test: Calculating Lensed Ellipticity for BCGs\n",
    "\n",
    "### Aidan Cloonan\n",
    "\n",
    "### August 2020\n",
    "\n",
    "I'll be utilizing the same method for ellipticity calculation on the redMaPPer central galaxies as identified from the quantity `id_cen_0`. This should be easily applicable to any of the other central IDs.\n",
    "\n",
    "**Note**: This [notebook](https://github.com/LSSTDESC/DC2-analysis/blob/23eab0916a0f677fb87eb24f1d9b2f5031114993/contributed/redmapper_python1.ipynb), also found in the \"contributed\" folder within DC2-analysis, seems to refer to `id_cen_0` as the \"cluster central.\" This might be what I'm looking for.\n",
    "\n",
    "The probability quantities, `p_cen_0` through `p_cen_4`, seem to refer to the likelihood that this particular central galaxy is the BCG. Therefore, I've included a repeat of the method at the end of this notebook, but filtering out IDs with lower `p_cen_0` values."
   ]
  },
  {
   "cell_type": "code",
   "execution_count": 1,
   "metadata": {},
   "outputs": [],
   "source": [
    "# math, array manipulation, etc.\n",
    "import numpy as np\n",
    "import esutil                    # must use desc-stack kernel\n",
    "\n",
    "# get central galaxy/BCG and cluster member data\n",
    "import GCRCatalogs as gcr\n",
    "\n",
    "# astropy\n",
    "import astropy.io.fits as fits                                  # writing to and opening FITS files\n",
    "from astropy.cosmology import FlatLambdaCDM, WMAP7              # making cosmological calculations\n",
    "from astropy import units as u                                  # units\n",
    "from astropy.table import Table                                 # Table data structure\n",
    "\n",
    "# for timing loops \n",
    "from tqdm import *\n",
    "import time\n",
    "\n",
    "# plots\n",
    "import matplotlib.pyplot as plt\n",
    "%matplotlib inline"
   ]
  },
  {
   "cell_type": "markdown",
   "metadata": {},
   "source": [
    "### Compile Cluster and Member Data"
   ]
  },
  {
   "cell_type": "code",
   "execution_count": 2,
   "metadata": {},
   "outputs": [],
   "source": [
    "# get the redMaPPer catalog\n",
    "redM_gcr = gcr.load_catalog('cosmoDC2_v1.1.4_redmapper_v0.5.7')"
   ]
  },
  {
   "cell_type": "code",
   "execution_count": 3,
   "metadata": {},
   "outputs": [
    {
     "name": "stdout",
     "output_type": "stream",
     "text": [
      "All redMaPPer quantities:\n",
      "\n",
      "['magerr_y_lsst_member', 'magerr_g_lsst_member', 'theta_r_member', 'p_cen_0', 'id_cen_2', 'p_cen_1', 'theta_i_member', 'redshift', 'dec_cen_3', 'ra_member', 'magerr_r_lsst_member', 'scaleval', 'redshift_true_cg', 'ra_cen_0', 'id_cen_0', 'id_cen_1', 'ra_cen_2', 'mag_y_lsst_member', 'p_cen_2', 'magerr_i_lsst_member', 'ra_cen_3', 'cluster_id', 'richness_err', 'id_cen_4', 'ra_cen_1', 'id_cen_3', 'refmag_err_member', 'richness', 'dec', 'magerr_z_lsst_member', 'dec_cen_4', 'ra_cen_4', 'dec_cen_2', 'dec_member', 'refmag_member', 'maskfrac', 'p_member', 'dec_cen_1', 'cluster_id_member', 'id_member', 'redshift_err', 'p_cen_3', 'pfree_member', 'ra', 'redshift_true_member', 'mag_r_lsst_member', 'mag_g_lsst_member', 'p_cen_4', 'mag_z_lsst_member', 'mag_i_lsst_member', 'dec_cen_0']\n",
      "\n",
      "Cluster quantities:\n",
      "\n",
      "['p_cen_0', 'id_cen_2', 'p_cen_1', 'redshift', 'dec_cen_3', 'scaleval', 'redshift_true_cg', 'ra_cen_0', 'id_cen_0', 'id_cen_1', 'ra_cen_2', 'p_cen_2', 'ra_cen_3', 'cluster_id', 'richness_err', 'id_cen_4', 'ra_cen_1', 'id_cen_3', 'richness', 'dec', 'dec_cen_4', 'ra_cen_4', 'dec_cen_2', 'maskfrac', 'dec_cen_1', 'redshift_err', 'p_cen_3', 'ra', 'p_cen_4', 'dec_cen_0']\n",
      "\n",
      "Member quantities:\n",
      "\n",
      "['magerr_y_lsst_member', 'magerr_g_lsst_member', 'theta_r_member', 'theta_i_member', 'ra_member', 'magerr_r_lsst_member', 'mag_y_lsst_member', 'magerr_i_lsst_member', 'refmag_err_member', 'magerr_z_lsst_member', 'dec_member', 'refmag_member', 'p_member', 'cluster_id_member', 'id_member', 'pfree_member', 'redshift_true_member', 'mag_r_lsst_member', 'mag_g_lsst_member', 'mag_z_lsst_member', 'mag_i_lsst_member']\n"
     ]
    }
   ],
   "source": [
    "# list all redMaPPer quantities\n",
    "redM_quantities = redM_gcr.list_all_quantities()\n",
    "print(\"All redMaPPer quantities:\\n\")\n",
    "print(redM_quantities)\n",
    "\n",
    "# these are the quantities that describe the clusters and the central galaxies\n",
    "cluster_quantities = [q for q in redM_quantities if 'member' not in q]\n",
    "print(\"\\nCluster quantities:\\n\")\n",
    "print(cluster_quantities)\n",
    "\n",
    "# these are the quantities that describe each cluster's member galaxies\n",
    "member_quantities = [q for q in redM_quantities if 'member' in q]\n",
    "print(\"\\nMember quantities:\\n\")\n",
    "print(member_quantities)"
   ]
  },
  {
   "cell_type": "code",
   "execution_count": 4,
   "metadata": {},
   "outputs": [],
   "source": [
    "# get cluster data\n",
    "redM_data = Table(redM_gcr.get_quantities(cluster_quantities))\n",
    "\n",
    "# get member data\n",
    "mem_data = Table(redM_gcr.get_quantities(member_quantities))"
   ]
  },
  {
   "cell_type": "code",
   "execution_count": 5,
   "metadata": {},
   "outputs": [
    {
     "name": "stdout",
     "output_type": "stream",
     "text": [
      "There are 209096 unique cluster members in the data.\n"
     ]
    }
   ],
   "source": [
    "# filter out duplicate galaxies from mem_data\n",
    "uniq_mem_id, uniq_mem_ind = np.unique(mem_data['id_member'], return_index=True)\n",
    "filtered_mem_data = mem_data[uniq_mem_ind]\n",
    "print(\"There are {} unique cluster members in the data.\".format(len(filtered_mem_data)))"
   ]
  },
  {
   "cell_type": "code",
   "execution_count": 6,
   "metadata": {},
   "outputs": [],
   "source": [
    "# extract BCG galaxy IDs\n",
    "bcg_ids_0 = redM_data['id_cen_0']\n",
    "cen_ids_1 = redM_data['id_cen_1']"
   ]
  },
  {
   "cell_type": "code",
   "execution_count": 7,
   "metadata": {},
   "outputs": [
    {
     "name": "stdout",
     "output_type": "stream",
     "text": [
      "1250061469\n",
      "12065849446\n"
     ]
    }
   ],
   "source": [
    "print(np.min(bcg_ids_0))\n",
    "print(np.max(bcg_ids_0))"
   ]
  },
  {
   "cell_type": "code",
   "execution_count": 8,
   "metadata": {},
   "outputs": [
    {
     "name": "stdout",
     "output_type": "stream",
     "text": [
      "The mean probabilty of cen_0 is 0.92894375\n",
      "The median probability of cen_0 is 0.995431\n"
     ]
    },
    {
     "data": {
      "image/png": "[encoded data removed]",
      "text/plain": [
       "<Figure size 576x432 with 1 Axes>"
      ]
     },
     "metadata": {
      "needs_background": "light"
     },
     "output_type": "display_data"
    }
   ],
   "source": [
    "# let's plot probability distributions\n",
    "\n",
    "# p_cen_0\n",
    "# create linear space for plotting the mean and median\n",
    "y = np.linspace(-1, 1e5, 5)\n",
    "x_mean = 0*y + np.mean(redM_data['p_cen_0'])\n",
    "x_med = 0*y + np.median(redM_data['p_cen_0'])\n",
    "\n",
    "print(\"The mean probabilty of cen_0 is\", np.mean(redM_data['p_cen_0']))\n",
    "print(\"The median probability of cen_0 is\", np.median(redM_data['p_cen_0']))\n",
    "\n",
    "plt.figure(figsize=(8,6))\n",
    "plt.hist(redM_data['p_cen_0'], bins=100, alpha=0.5)\n",
    "plt.plot(x_mean, y, 'g', label=r'Mean')\n",
    "plt.plot(x_med, y, 'r', label=r'Median')\n",
    "plt.legend(loc='best')\n",
    "plt.xlabel(r'P', fontsize=14)\n",
    "#plt.xlim(-.04,1)\n",
    "plt.ylim(0,2500)\n",
    "plt.title('Probability Distribution: redMaPPer cen_0 galaxies', fontsize=16)\n",
    "plt.show()"
   ]
  },
  {
   "cell_type": "code",
   "execution_count": 9,
   "metadata": {},
   "outputs": [
    {
     "name": "stdout",
     "output_type": "stream",
     "text": [
      "The mean probabilty of cen_0 is 0.06086133\n",
      "The median probability of cen_0 is 0.0038152558\n"
     ]
    },
    {
     "data": {
      "image/png": "[encoded data removed]",
      "text/plain": [
       "<Figure size 576x432 with 1 Axes>"
      ]
     },
     "metadata": {
      "needs_background": "light"
     },
     "output_type": "display_data"
    }
   ],
   "source": [
    "# p_cen_1\n",
    "# create linear space for plotting the mean and median\n",
    "y = np.linspace(-1, 1e5, 5)\n",
    "x_mean = 0*y + np.mean(redM_data['p_cen_1'])\n",
    "x_med = 0*y + np.median(redM_data['p_cen_1'])\n",
    "\n",
    "print(\"The mean probabilty of cen_0 is\", np.mean(redM_data['p_cen_1']))\n",
    "print(\"The median probability of cen_0 is\", np.median(redM_data['p_cen_1']))\n",
    "\n",
    "plt.figure(figsize=(8,6))\n",
    "plt.hist(redM_data['p_cen_1'], bins=100, alpha=0.5)\n",
    "plt.plot(x_mean, y, 'g', label=r'Mean')\n",
    "plt.plot(x_med, y, 'r', label=r'Median')\n",
    "plt.legend(loc='best')\n",
    "plt.xlabel(r'$P$', fontsize=14)\n",
    "#plt.xlim(-.04,1)\n",
    "plt.ylim(0,2500)\n",
    "plt.title('Probability Distribution: redMaPPer cen_1 galaxies', fontsize=16)\n",
    "plt.show()"
   ]
  },
  {
   "cell_type": "code",
   "execution_count": 10,
   "metadata": {},
   "outputs": [
    {
     "name": "stdout",
     "output_type": "stream",
     "text": [
      "1.0\n"
     ]
    }
   ],
   "source": [
    "i = 3\n",
    "cluster = redM_data[i]\n",
    "print(cluster['p_cen_0'] \n",
    "      + cluster['p_cen_1'] \n",
    "      + cluster['p_cen_2']\n",
    "      + cluster['p_cen_3']\n",
    "      + cluster['p_cen_4'])"
   ]
  },
  {
   "cell_type": "code",
   "execution_count": 11,
   "metadata": {},
   "outputs": [],
   "source": [
    "# just to make sure, let's make sure the p values in redM_data add up to about 1.0\n",
    "for i in range(len(redM_data)):\n",
    "    cluster = redM_data[i]\n",
    "    p_values = np.array([cluster['p_cen_0']\n",
    "                         , cluster['p_cen_1']\n",
    "                         , cluster['p_cen_2']\n",
    "                         , cluster['p_cen_3']\n",
    "                         , cluster['p_cen_4']])\n",
    "    p_values_sum = np.sum(p_values)\n",
    "    if p_values_sum < 0.9999 or p_values_sum > 1.00001:\n",
    "        raise ValueError('P values at index {} don\\'t add up to 1.0.'.format(i))"
   ]
  },
  {
   "cell_type": "markdown",
   "metadata": {},
   "source": [
    "### Cosmology Definition\n",
    "\n",
    "This needs to be agreement with the cosmoDC2 v1.1.4 parameters, as defined with this [link](https://github.com/LSSTDESC/gcr-catalogs/blob/master/GCRCatalogs/catalog_configs/cosmoDC2_v1.1.4_image.yaml).\n",
    "\n",
    "**NOTES:**\n",
    "\n",
    "How can I account for $\\sigma_{8}$ and $n_{s}$? These values are outlined in the link provided above, but I haven't found any `astropy` documentation so far on either of these parameters.\n",
    "\n",
    "I didn't account for this in the matching algorithms, so I'll need to run them again in order to approximate comoving distance more accurately. As of now, I've copied the following cosmology definition and placed it around Input 32 in the matching notebook. I'll look into running the notebook again once I've figured out those two parameters.\n",
    "\n",
    "**Update**: Got it! After loading the catalog, you can simply use the following:"
   ]
  },
  {
   "cell_type": "code",
   "execution_count": 12,
   "metadata": {},
   "outputs": [
    {
     "data": {
      "text/plain": [
       "FlatLambdaCDM(H0=71 km / (Mpc s), Om0=0.265, Tcmb0=0 K, Neff=3.04, m_nu=None, Ob0=0.0448)"
      ]
     },
     "execution_count": 12,
     "metadata": {},
     "output_type": "execute_result"
    }
   ],
   "source": [
    "cosmo = redM_gcr.cosmology\n",
    "cosmo"
   ]
  },
  {
   "cell_type": "markdown",
   "metadata": {},
   "source": [
    "### Compile Lensing Data"
   ]
  },
  {
   "cell_type": "code",
   "execution_count": 13,
   "metadata": {},
   "outputs": [],
   "source": [
    "# get the cosmoDC2 catalog\n",
    "cosmoDC2_gcr = gcr.load_catalog('cosmoDC2_v1.1.4_image')"
   ]
  },
  {
   "cell_type": "code",
   "execution_count": 14,
   "metadata": {},
   "outputs": [],
   "source": [
    "# list the lensing quantities we want\n",
    "lensing_quantities = ['galaxy_id'\n",
    "                      , 'shear_1'\n",
    "                      , 'shear_2'\n",
    "                      , 'ellipticity_1_true'\n",
    "                      , 'ellipticity_2_true'\n",
    "                      , 'convergence'\n",
    "                      , 'halo_mass'\n",
    "                      , 'halo_id'\n",
    "                     ]\n",
    "\n",
    "min_id = np.min(bcg_ids_0)\n",
    "max_id = np.max(bcg_ids_0)\n",
    "min_ra = np.min(redM_data['ra_cen_0'])\n",
    "max_ra = np.max(redM_data['ra_cen_0'])\n",
    "min_dec = np.min(redM_data['dec_cen_0'])\n",
    "max_dec = np.max(redM_data['dec_cen_0'])"
   ]
  },
  {
   "cell_type": "code",
   "execution_count": 15,
   "metadata": {},
   "outputs": [],
   "source": [
    "# load in cosmoDC2 data\n",
    "# the halo mass limit that I've used here is the smallest mass of an id_cen_1 galaxy \n",
    "# (from redM table)\n",
    "# (just in case we want to use the id_cen_1 galaxies for anything)\n",
    "lensing_data = Table(cosmoDC2_gcr.get_quantities(lensing_quantities\n",
    "                                                 , filters=['halo_mass > 3.487e11'\n",
    "                                                            , 'galaxy_id >= {}'.format(min_id)\n",
    "                                                            , 'galaxy_id <= {}'.format(max_id)\n",
    "                                                            , 'ra > {}'.format(min_ra - 0.01)\n",
    "                                                            , 'ra < {}'.format(max_ra + 0.01)\n",
    "                                                            , 'dec > {}'.format(min_dec - 0.01)\n",
    "                                                            , 'dec < {}'.format(max_dec + 0.01)\n",
    "                                                           ]\n",
    "                                                )\n",
    "                    )"
   ]
  },
  {
   "cell_type": "code",
   "execution_count": 16,
   "metadata": {},
   "outputs": [
    {
     "name": "stdout",
     "output_type": "stream",
     "text": [
      "There are 107161209 unique galaxies in the data.\n"
     ]
    }
   ],
   "source": [
    "# filter out duplicate galaxy IDs\n",
    "uniq_dc2_ids, uniq_dc2_ind = np.unique(lensing_data['galaxy_id'], return_index=True)\n",
    "filtered_lensing_data = lensing_data[uniq_dc2_ind]\n",
    "print(\"There are {} unique galaxies in the data.\".format(len(filtered_lensing_data)))"
   ]
  },
  {
   "cell_type": "code",
   "execution_count": 17,
   "metadata": {},
   "outputs": [
    {
     "data": {
      "text/plain": [
       "107161209"
      ]
     },
     "execution_count": 17,
     "metadata": {},
     "output_type": "execute_result"
    }
   ],
   "source": [
    "# since this length is the same as our filtered length, there's no need to filter out\n",
    "# duplicate IDs here\n",
    "len(lensing_data)"
   ]
  },
  {
   "cell_type": "code",
   "execution_count": 18,
   "metadata": {},
   "outputs": [],
   "source": [
    "# find indices where id_cen_0 values can be found\n",
    "bcg_redM_ind, bcg_lens_ind = esutil.numpy_util.match(bcg_ids_0, lensing_data['galaxy_id'])"
   ]
  },
  {
   "cell_type": "code",
   "execution_count": 19,
   "metadata": {},
   "outputs": [],
   "source": [
    "# repeat for id_cen_1\n",
    "# i don't end up using them for anything here, but we can later down the road if we want\n",
    "cen1_redM_ind, cen1_lens_ind = esutil.numpy_util.match(cen_ids_1, lensing_data['galaxy_id'])"
   ]
  },
  {
   "cell_type": "code",
   "execution_count": 20,
   "metadata": {},
   "outputs": [
    {
     "name": "stdout",
     "output_type": "stream",
     "text": [
      "We found 3895 of the redMaPPer galaxies in the dataset.\n"
     ]
    }
   ],
   "source": [
    "# check that all 3895 galaxies were found\n",
    "print(\"We found {} of the redMaPPer galaxies in the dataset.\".format(bcg_lens_ind.size))\n",
    "#print(cen1_lens_ind.size)"
   ]
  },
  {
   "cell_type": "code",
   "execution_count": 21,
   "metadata": {},
   "outputs": [
    {
     "name": "stdout",
     "output_type": "stream",
     "text": [
      "The smallest DM halo in the BCG dataset has a mass of 4.268507e+11 solar masses.\n"
     ]
    }
   ],
   "source": [
    "# here is how I determined the halo mass limit I'd use above\n",
    "print(\"The smallest DM halo in the BCG dataset has a mass of {:e} solar masses.\".format(np.min(lensing_data[bcg_lens_ind]['halo_mass'])))\n",
    "#print(np.min(lensing_data[cen1_lens_ind]['halo_mass']))"
   ]
  },
  {
   "cell_type": "code",
   "execution_count": 22,
   "metadata": {},
   "outputs": [],
   "source": [
    "# extract cen_0, add cluster IDs\n",
    "bcg_lensing_data = lensing_data[bcg_lens_ind]\n",
    "bcg_lensing_data['cluster_id'] = redM_data[bcg_redM_ind]['cluster_id']"
   ]
  },
  {
   "cell_type": "code",
   "execution_count": 23,
   "metadata": {},
   "outputs": [],
   "source": [
    "# extract cen_1, add cluster IDs\n",
    "cen1_lensing_data = lensing_data[cen1_lens_ind]\n",
    "cen1_lensing_data['cluster_id'] = redM_data[cen1_redM_ind]['cluster_id']"
   ]
  },
  {
   "cell_type": "markdown",
   "metadata": {},
   "source": [
    "### Calculate Lensed Ellipticity"
   ]
  },
  {
   "cell_type": "code",
   "execution_count": 24,
   "metadata": {},
   "outputs": [],
   "source": [
    "# first, compile a bunch of necessary columns\n",
    "bcg_shear1 = bcg_lensing_data['shear_1']\n",
    "bcg_shear2 = bcg_lensing_data['shear_2']\n",
    "bcg_e1 = bcg_lensing_data['ellipticity_1_true']\n",
    "bcg_e2 = bcg_lensing_data['ellipticity_2_true']\n",
    "bcg_kappa = bcg_lensing_data['convergence']"
   ]
  },
  {
   "cell_type": "code",
   "execution_count": 25,
   "metadata": {},
   "outputs": [],
   "source": [
    "# now, let's define a function to find lensed ellipticity\n",
    "def calc_lensed_ellipticity(gamma1, gamma2, e_t1, e_t2, kappa):\n",
    "    '''\n",
    "    This function utilizes relations between shear, convergence, and the true ellipticity 1 and 2 values in order to\n",
    "    calculate the lensed ellipticity.\n",
    "    \n",
    "    Inputs:\n",
    "        \n",
    "        gamma1             |    The quantity 'shear_1'\n",
    "        \n",
    "        gamma2             |    The quantity 'shear_2'\n",
    "        \n",
    "        e_t1               |    The quantity 'ellipticity_1_true'\n",
    "        \n",
    "        e_t2               |    The quantity 'ellipticity_2_true'\n",
    "        \n",
    "        kappa              |    The quantity 'convergence'\n",
    "        \n",
    "    Output:\n",
    "    \n",
    "        np.abs(e)          |    The absolute value of the complex number e, as calculated below. Note that the\n",
    "                                absolute value of a complex number, a + b*1j, is found with (a**2 + b**2) ** 0.5.\n",
    "                                This is the distance formula of a complex number plotted on the complex plane.\n",
    "    '''\n",
    "    gamma = gamma1 + gamma2*1j                     # shear (as a complex number, note that 1j is the imaginary number)\n",
    "    e_t = e_t1 + e_t2*1j                           # true or intrinsic ellipticity (as a complex number)\n",
    "    g = gamma / (1.0 - kappa)                      # reduced shear\n",
    "    e = (e_t + g) / (1.0 + (e_t * g.conjugate()))  # lensed ellipticity\n",
    "    \n",
    "    # return lensed ellipticity\n",
    "    return np.abs(e)"
   ]
  },
  {
   "cell_type": "code",
   "execution_count": 26,
   "metadata": {},
   "outputs": [],
   "source": [
    "# calculate lensed ellipticity for the BCGs\n",
    "bcg_lensing_data['ellipticity'] = calc_lensed_ellipticity(bcg_shear1\n",
    "                                                         , bcg_shear2\n",
    "                                                         , bcg_e1\n",
    "                                                         , bcg_e2\n",
    "                                                         , bcg_kappa)"
   ]
  },
  {
   "cell_type": "code",
   "execution_count": 27,
   "metadata": {
    "scrolled": true
   },
   "outputs": [
    {
     "data": {
      "text/html": [
       "<i>Table length=3895</i>\n",
       "<table id=\"table46913254211032\" class=\"table-striped table-bordered table-condensed\">\n",
       "<thead><tr><th>galaxy_id</th><th>halo_mass</th><th>ellipticity_2_true</th><th>shear_1</th><th>shear_2</th><th>convergence</th><th>halo_id</th><th>ellipticity_1_true</th><th>cluster_id</th><th>ellipticity</th><th>p_bcg</th></tr></thead>\n",
       "<thead><tr><th>int64</th><th>float64</th><th>float64</th><th>float64</th><th>float64</th><th>float64</th><th>int64</th><th>float64</th><th>int32</th><th>float64</th><th>float32</th></tr></thead>\n",
       "<tr><td>9437527620</td><td>228279662101633.8</td><td>0.003769422785477183</td><td>-0.0007697509428568061</td><td>-0.0014737822430902921</td><td>0.00039156484046465323</td><td>95400151411</td><td>0.00722568075838464</td><td>1740</td><td>0.006851532386307819</td><td>0.9999929</td></tr>\n",
       "<tr><td>9437528172</td><td>263934081687436.62</td><td>-0.20228976433389084</td><td>-0.00328169668927214</td><td>-0.0005688164564912625</td><td>0.0016665777636637458</td><td>130200151411</td><td>-0.2834333736271504</td><td>300</td><td>0.35085998689208164</td><td>0.9999822</td></tr>\n",
       "<tr><td>9437586902</td><td>162421527739492.97</td><td>-0.02680302685824229</td><td>-0.0004394014683647418</td><td>-0.00015070944467250832</td><td>0.0007211023331906707</td><td>349000151382</td><td>0.357980107474647</td><td>3951</td><td>0.3586099308497207</td><td>0.83419436</td></tr>\n",
       "<tr><td>9437613919</td><td>91472258570095.78</td><td>-0.02758046555434631</td><td>0.0019374798743139188</td><td>-0.0005367683282988017</td><td>-0.0016123451413510015</td><td>48900151373</td><td>-0.08816026282989228</td><td>3458</td><td>0.0907083192894198</td><td>0.99927896</td></tr>\n",
       "<tr><td>9437618605</td><td>198075947325295.78</td><td>-0.019443276528079985</td><td>0.001890169482736126</td><td>0.0007028418489569953</td><td>-0.0021991762259641057</td><td>397900151373</td><td>-0.024553340225520564</td><td>2674</td><td>0.029413818952691115</td><td>0.99830854</td></tr>\n",
       "<tr><td>9437691052</td><td>113040273581070.42</td><td>0.011418073314749493</td><td>-0.006476297929713992</td><td>0.0013199767908285516</td><td>0.0011197740461639238</td><td>357100151355</td><td>-0.01621327322046872</td><td>3494</td><td>0.026024583178333522</td><td>0.9011545</td></tr>\n",
       "<tr><td>9437691520</td><td>154662656086535.22</td><td>0.04676146594069114</td><td>-0.0035776357322009344</td><td>-0.002714197856499505</td><td>-0.0014525111872583096</td><td>388500151355</td><td>0.05301962478485993</td><td>1100</td><td>0.0662442926373282</td><td>0.99121207</td></tr>\n",
       "<tr><td>9437692846</td><td>225225499893183.12</td><td>-0.07615315223818733</td><td>0.004679993904495694</td><td>-0.007352020921321863</td><td>0.005582208395767507</td><td>481800151355</td><td>0.15847286929204912</td><td>1515</td><td>0.1830836289678146</td><td>0.9163672</td></tr>\n",
       "<tr><td>9437749675</td><td>140431559838647.89</td><td>-0.06217807473443483</td><td>0.00125683781270991</td><td>-0.0030641501454618993</td><td>0.003539346170416513</td><td>413000151347</td><td>-0.16990738040430092</td><td>2081</td><td>0.18083408751058988</td><td>0.8554523</td></tr>\n",
       "<tr><td>9437807130</td><td>291442335859380.3</td><td>-0.06932965809802626</td><td>0.002123115674019904</td><td>0.0008930002489736305</td><td>-0.003540216135418106</td><td>649700151338</td><td>-0.02352766729352598</td><td>346</td><td>0.07171910075631245</td><td>0.99973536</td></tr>\n",
       "<tr><td>...</td><td>...</td><td>...</td><td>...</td><td>...</td><td>...</td><td>...</td><td>...</td><td>...</td><td>...</td><td>...</td></tr>\n",
       "<tr><td>9003076839</td><td>305553864905915.5</td><td>0.04852406178128713</td><td>0.010939077236082895</td><td>-0.004029621042439946</td><td>0.0011363973595550636</td><td>1000000144230</td><td>0.059444762742951296</td><td>1083</td><td>0.08323863354746731</td><td>0.9755977</td></tr>\n",
       "<tr><td>9003361407</td><td>249819953353915.5</td><td>-0.05326408394171225</td><td>-0.004536448330220433</td><td>0.0030423953171416027</td><td>0.009794654945321613</td><td>2273300144224</td><td>-0.011091536494449744</td><td>1455</td><td>0.0525876267344772</td><td>0.988743</td></tr>\n",
       "<tr><td>9003381396</td><td>185170487440225.38</td><td>-0.13039317036218429</td><td>-0.011898653798663283</td><td>-0.01598898589358222</td><td>-0.0026607940920237994</td><td>3727500144224</td><td>-0.15068243408262827</td><td>2084</td><td>0.21787550965643815</td><td>0.95286214</td></tr>\n",
       "<tr><td>9003393602</td><td>129636720986140.84</td><td>-0.042575732656922875</td><td>0.01426942941752296</td><td>-0.010319850206800726</td><td>-0.0003791484301642889</td><td>4582100144224</td><td>0.054317985494042695</td><td>1864</td><td>0.08650341706868998</td><td>0.99764764</td></tr>\n",
       "<tr><td>9065554946</td><td>244434230719098.6</td><td>0.0006290243324389632</td><td>-0.0015667588148746137</td><td>0.02271045264580277</td><td>0.012855407260558227</td><td>145800145230</td><td>0.06367076913330472</td><td>1208</td><td>0.06643608341283455</td><td>0.78153086</td></tr>\n",
       "<tr><td>9065869640</td><td>145133669996169.03</td><td>0.0204396688534997</td><td>0.015815171099154035</td><td>0.0009501781445366677</td><td>0.015665701682624933</td><td>2968000145224</td><td>0.005407536248532589</td><td>6972</td><td>0.03031710299325059</td><td>0.99998987</td></tr>\n",
       "<tr><td>9127508265</td><td>183200227904901.4</td><td>-0.04186382655927631</td><td>0.0059362895752707034</td><td>0.0026598542607974675</td><td>-0.01052235351037778</td><td>602900146241</td><td>-0.01567277755148295</td><td>758</td><td>0.04044492705850825</td><td>0.99999565</td></tr>\n",
       "<tr><td>9127508904</td><td>97914904460619.72</td><td>0.10602579421167625</td><td>-0.004464235143671447</td><td>-0.004306949079933219</td><td>-0.018113183828658785</td><td>636800146241</td><td>-0.03873499582180818</td><td>1132</td><td>0.11058230112717007</td><td>0.8161774</td></tr>\n",
       "<tr><td>9127512468</td><td>121896044342084.52</td><td>-0.04025827389685963</td><td>-0.0013185070737780635</td><td>0.01884031081967658</td><td>0.02372237541871569</td><td>897900146241</td><td>0.009244147652698874</td><td>1418</td><td>0.02241496001969612</td><td>0.91403705</td></tr>\n",
       "<tr><td>9128700404</td><td>121269616178478.88</td><td>-0.0037630623245016952</td><td>0.019059645714254447</td><td>-0.013125407853110697</td><td>0.02099430817618031</td><td>2162800146219</td><td>-0.006982190922159944</td><td>68172</td><td>0.02123178082332284</td><td>0.9783978</td></tr>\n",
       "</table>"
      ],
      "text/plain": [
       "<Table length=3895>\n",
       "galaxy_id      halo_mass      ...     ellipticity        p_bcg   \n",
       "  int64         float64       ...       float64         float32  \n",
       "---------- ------------------ ... -------------------- ----------\n",
       "9437527620  228279662101633.8 ... 0.006851532386307819  0.9999929\n",
       "9437528172 263934081687436.62 ...  0.35085998689208164  0.9999822\n",
       "9437586902 162421527739492.97 ...   0.3586099308497207 0.83419436\n",
       "9437613919  91472258570095.78 ...   0.0907083192894198 0.99927896\n",
       "9437618605 198075947325295.78 ... 0.029413818952691115 0.99830854\n",
       "9437691052 113040273581070.42 ... 0.026024583178333522  0.9011545\n",
       "9437691520 154662656086535.22 ...   0.0662442926373282 0.99121207\n",
       "9437692846 225225499893183.12 ...   0.1830836289678146  0.9163672\n",
       "9437749675 140431559838647.89 ...  0.18083408751058988  0.8554523\n",
       "9437807130  291442335859380.3 ...  0.07171910075631245 0.99973536\n",
       "       ...                ... ...                  ...        ...\n",
       "9003076839  305553864905915.5 ...  0.08323863354746731  0.9755977\n",
       "9003361407  249819953353915.5 ...   0.0525876267344772   0.988743\n",
       "9003381396 185170487440225.38 ...  0.21787550965643815 0.95286214\n",
       "9003393602 129636720986140.84 ...  0.08650341706868998 0.99764764\n",
       "9065554946  244434230719098.6 ...  0.06643608341283455 0.78153086\n",
       "9065869640 145133669996169.03 ...  0.03031710299325059 0.99998987\n",
       "9127508265  183200227904901.4 ...  0.04044492705850825 0.99999565\n",
       "9127508904  97914904460619.72 ...  0.11058230112717007  0.8161774\n",
       "9127512468 121896044342084.52 ...  0.02241496001969612 0.91403705\n",
       "9128700404 121269616178478.88 ...  0.02123178082332284  0.9783978"
      ]
     },
     "execution_count": 27,
     "metadata": {},
     "output_type": "execute_result"
    }
   ],
   "source": [
    "# add ellipticity and p_cen_0 values to table\n",
    "bcg_lensed_e = bcg_lensing_data['ellipticity']\n",
    "bcg_lensing_data['p_bcg'] = redM_data[bcg_redM_ind]['p_cen_0']\n",
    "bcg_lensing_data"
   ]
  },
  {
   "cell_type": "code",
   "execution_count": 28,
   "metadata": {},
   "outputs": [
    {
     "name": "stdout",
     "output_type": "stream",
     "text": [
      "The mean lensed ellipticity is 0.09882384433209922\n",
      "The median lensed ellipticity is 0.06555156470000469\n"
     ]
    },
    {
     "data": {
      "image/png": "[encoded data removed]",
      "text/plain": [
       "<Figure size 576x432 with 1 Axes>"
      ]
     },
     "metadata": {
      "needs_background": "light"
     },
     "output_type": "display_data"
    }
   ],
   "source": [
    "# let's plot the distribution\n",
    "\n",
    "# create linear space for plotting the mean and median\n",
    "y = np.linspace(-1, 1e5, 5)\n",
    "x_mean = 0*y + np.mean(bcg_lensed_e)\n",
    "x_med = 0*y + np.median(bcg_lensed_e)\n",
    "\n",
    "print(\"The mean lensed ellipticity is\", np.mean(bcg_lensed_e))\n",
    "print(\"The median lensed ellipticity is\", np.median(bcg_lensed_e))\n",
    "\n",
    "plt.figure(figsize=(8,6))\n",
    "plt.hist(bcg_lensed_e, bins=100, alpha=0.5)\n",
    "plt.plot(x_mean, y, 'g', label=r'Mean')\n",
    "plt.plot(x_med, y, 'r', label=r'Median')\n",
    "plt.legend(loc='best')\n",
    "plt.xlabel(r'Lensed Ellipticity', fontsize=14)\n",
    "#plt.xlim(-.04,1)\n",
    "plt.ylim(0,300)\n",
    "plt.title('Lensed Ellipticity Distribution', fontsize=20)\n",
    "plt.show()"
   ]
  },
  {
   "cell_type": "code",
   "execution_count": 29,
   "metadata": {},
   "outputs": [],
   "source": [
    "# write to FITS file\n",
    "bcg_lensing_data.write('../fits_files/bcg_lensed_data_with_lensed_ellipticity_cosmoDC2_redM.fits'\n",
    "                       , format='fits')"
   ]
  },
  {
   "cell_type": "markdown",
   "metadata": {},
   "source": [
    "What if we only took cases where `p_cen_0` $\\ge 0.9$?"
   ]
  },
  {
   "cell_type": "code",
   "execution_count": 30,
   "metadata": {},
   "outputs": [],
   "source": [
    "# open our new FITS file\n",
    "bcg_hdu = fits.open('../fits_files/bcg_lensed_data_with_lensed_ellipticity_cosmoDC2_redM.fits')\n",
    "\n",
    "# extract dataset\n",
    "bcg_table = Table(bcg_hdu[1].data)"
   ]
  },
  {
   "cell_type": "code",
   "execution_count": 31,
   "metadata": {},
   "outputs": [],
   "source": [
    "# find indices where p_cen_0 >= 0.9\n",
    "# note that i defined p_cen_0 as p_bcg in this FITS table\n",
    "pcen0_90_ind = np.where(bcg_table['p_bcg'] >= 0.9)\n",
    "\n",
    "# extract these BCGs\n",
    "bcg_table_pcen0_90 = bcg_table[pcen0_90_ind]"
   ]
  },
  {
   "cell_type": "code",
   "execution_count": 32,
   "metadata": {},
   "outputs": [],
   "source": [
    "# first, compile a bunch of necessary columns\n",
    "bcg_pcen0_90_shear1 = bcg_table_pcen0_90['shear_1']\n",
    "bcg_pcen0_90_shear2 = bcg_table_pcen0_90['shear_2']\n",
    "bcg_pcen0_90_e1 = bcg_table_pcen0_90['ellipticity_1_true']\n",
    "bcg_pcen0_90_e2 = bcg_table_pcen0_90['ellipticity_2_true']\n",
    "bcg_pcen0_90_kappa = bcg_table_pcen0_90['convergence']"
   ]
  },
  {
   "cell_type": "code",
   "execution_count": 33,
   "metadata": {},
   "outputs": [],
   "source": [
    "# calculate lensed ellipticity for the BCGs\n",
    "bcg_table_pcen0_90['ellipticity'] = calc_lensed_ellipticity(bcg_pcen0_90_shear1\n",
    "                                                                   , bcg_pcen0_90_shear2\n",
    "                                                                   , bcg_pcen0_90_e1\n",
    "                                                                   , bcg_pcen0_90_e2\n",
    "                                                                   , bcg_pcen0_90_kappa\n",
    "                                                                  )"
   ]
  },
  {
   "cell_type": "code",
   "execution_count": 34,
   "metadata": {
    "scrolled": true
   },
   "outputs": [
    {
     "data": {
      "text/html": [
       "<i>Table length=3064</i>\n",
       "<table id=\"table46913256313800\" class=\"table-striped table-bordered table-condensed\">\n",
       "<thead><tr><th>galaxy_id</th><th>halo_mass</th><th>ellipticity_2_true</th><th>shear_1</th><th>shear_2</th><th>convergence</th><th>halo_id</th><th>ellipticity_1_true</th><th>cluster_id</th><th>ellipticity</th><th>p_bcg</th></tr></thead>\n",
       "<thead><tr><th>int64</th><th>float64</th><th>float64</th><th>float64</th><th>float64</th><th>float64</th><th>int64</th><th>float64</th><th>int32</th><th>float64</th><th>float32</th></tr></thead>\n",
       "<tr><td>9437527620</td><td>228279662101633.8</td><td>0.003769422785477183</td><td>-0.0007697509428568061</td><td>-0.0014737822430902921</td><td>0.00039156484046465323</td><td>95400151411</td><td>0.00722568075838464</td><td>1740</td><td>0.006851532386307819</td><td>0.9999929</td></tr>\n",
       "<tr><td>9437528172</td><td>263934081687436.62</td><td>-0.20228976433389084</td><td>-0.00328169668927214</td><td>-0.0005688164564912625</td><td>0.0016665777636637458</td><td>130200151411</td><td>-0.2834333736271504</td><td>300</td><td>0.35085998689208164</td><td>0.9999822</td></tr>\n",
       "<tr><td>9437613919</td><td>91472258570095.78</td><td>-0.02758046555434631</td><td>0.0019374798743139188</td><td>-0.0005367683282988017</td><td>-0.0016123451413510015</td><td>48900151373</td><td>-0.08816026282989228</td><td>3458</td><td>0.0907083192894198</td><td>0.99927896</td></tr>\n",
       "<tr><td>9437618605</td><td>198075947325295.78</td><td>-0.019443276528079985</td><td>0.001890169482736126</td><td>0.0007028418489569953</td><td>-0.0021991762259641057</td><td>397900151373</td><td>-0.024553340225520564</td><td>2674</td><td>0.029413818952691115</td><td>0.99830854</td></tr>\n",
       "<tr><td>9437691052</td><td>113040273581070.42</td><td>0.011418073314749493</td><td>-0.006476297929713992</td><td>0.0013199767908285516</td><td>0.0011197740461639238</td><td>357100151355</td><td>-0.01621327322046872</td><td>3494</td><td>0.026024583178333522</td><td>0.9011545</td></tr>\n",
       "<tr><td>9437691520</td><td>154662656086535.22</td><td>0.04676146594069114</td><td>-0.0035776357322009344</td><td>-0.002714197856499505</td><td>-0.0014525111872583096</td><td>388500151355</td><td>0.05301962478485993</td><td>1100</td><td>0.0662442926373282</td><td>0.99121207</td></tr>\n",
       "<tr><td>9437692846</td><td>225225499893183.12</td><td>-0.07615315223818733</td><td>0.004679993904495694</td><td>-0.007352020921321863</td><td>0.005582208395767507</td><td>481800151355</td><td>0.15847286929204912</td><td>1515</td><td>0.1830836289678146</td><td>0.9163672</td></tr>\n",
       "<tr><td>9437807130</td><td>291442335859380.3</td><td>-0.06932965809802626</td><td>0.002123115674019904</td><td>0.0008930002489736305</td><td>-0.003540216135418106</td><td>649700151338</td><td>-0.02352766729352598</td><td>346</td><td>0.07171910075631245</td><td>0.99973536</td></tr>\n",
       "<tr><td>9437809979</td><td>103602262535211.27</td><td>-0.0029052271626874514</td><td>0.006684245706747971</td><td>-0.0003630620375549442</td><td>-0.002890614584542428</td><td>857900151338</td><td>-0.009315922041587899</td><td>1977</td><td>0.004207675263258463</td><td>0.9815309</td></tr>\n",
       "<tr><td>9437949236</td><td>151629288173971.84</td><td>-0.1411676820103561</td><td>0.0004413926975188609</td><td>0.0031816180043718317</td><td>-0.002419264612242955</td><td>866400151323</td><td>0.10580351317966788</td><td>3139</td><td>0.17422511210347993</td><td>0.99761456</td></tr>\n",
       "<tr><td>...</td><td>...</td><td>...</td><td>...</td><td>...</td><td>...</td><td>...</td><td>...</td><td>...</td><td>...</td><td>...</td></tr>\n",
       "<tr><td>8940601914</td><td>117568231510535.22</td><td>-0.02032373781615757</td><td>0.0070644523855091235</td><td>0.005344131275438611</td><td>-0.007689496349064129</td><td>3090100143230</td><td>-0.03316883842514105</td><td>2234</td><td>0.03017429268009022</td><td>0.9737386</td></tr>\n",
       "<tr><td>9002786420</td><td>129155852893746.48</td><td>-0.0038766995378580575</td><td>-0.024899569981333636</td><td>0.0021822875043669295</td><td>0.018577534122472983</td><td>1237600144235</td><td>0.005233005509884261</td><td>3650</td><td>0.020208487349462973</td><td>0.9940505</td></tr>\n",
       "<tr><td>9003076839</td><td>305553864905915.5</td><td>0.04852406178128713</td><td>0.010939077236082895</td><td>-0.004029621042439946</td><td>0.0011363973595550636</td><td>1000000144230</td><td>0.059444762742951296</td><td>1083</td><td>0.08323863354746731</td><td>0.9755977</td></tr>\n",
       "<tr><td>9003361407</td><td>249819953353915.5</td><td>-0.05326408394171225</td><td>-0.004536448330220433</td><td>0.0030423953171416027</td><td>0.009794654945321613</td><td>2273300144224</td><td>-0.011091536494449744</td><td>1455</td><td>0.0525876267344772</td><td>0.988743</td></tr>\n",
       "<tr><td>9003381396</td><td>185170487440225.38</td><td>-0.13039317036218429</td><td>-0.011898653798663283</td><td>-0.01598898589358222</td><td>-0.0026607940920237994</td><td>3727500144224</td><td>-0.15068243408262827</td><td>2084</td><td>0.21787550965643815</td><td>0.95286214</td></tr>\n",
       "<tr><td>9003393602</td><td>129636720986140.84</td><td>-0.042575732656922875</td><td>0.01426942941752296</td><td>-0.010319850206800726</td><td>-0.0003791484301642889</td><td>4582100144224</td><td>0.054317985494042695</td><td>1864</td><td>0.08650341706868998</td><td>0.99764764</td></tr>\n",
       "<tr><td>9065869640</td><td>145133669996169.03</td><td>0.0204396688534997</td><td>0.015815171099154035</td><td>0.0009501781445366677</td><td>0.015665701682624933</td><td>2968000145224</td><td>0.005407536248532589</td><td>6972</td><td>0.03031710299325059</td><td>0.99998987</td></tr>\n",
       "<tr><td>9127508265</td><td>183200227904901.4</td><td>-0.04186382655927631</td><td>0.0059362895752707034</td><td>0.0026598542607974675</td><td>-0.01052235351037778</td><td>602900146241</td><td>-0.01567277755148295</td><td>758</td><td>0.04044492705850825</td><td>0.99999565</td></tr>\n",
       "<tr><td>9127512468</td><td>121896044342084.52</td><td>-0.04025827389685963</td><td>-0.0013185070737780635</td><td>0.01884031081967658</td><td>0.02372237541871569</td><td>897900146241</td><td>0.009244147652698874</td><td>1418</td><td>0.02241496001969612</td><td>0.91403705</td></tr>\n",
       "<tr><td>9128700404</td><td>121269616178478.88</td><td>-0.0037630623245016952</td><td>0.019059645714254447</td><td>-0.013125407853110697</td><td>0.02099430817618031</td><td>2162800146219</td><td>-0.006982190922159944</td><td>68172</td><td>0.02123178082332284</td><td>0.9783978</td></tr>\n",
       "</table>"
      ],
      "text/plain": [
       "<Table length=3064>\n",
       "galaxy_id      halo_mass      ...     ellipticity        p_bcg   \n",
       "  int64         float64       ...       float64         float32  \n",
       "---------- ------------------ ... -------------------- ----------\n",
       "9437527620  228279662101633.8 ... 0.006851532386307819  0.9999929\n",
       "9437528172 263934081687436.62 ...  0.35085998689208164  0.9999822\n",
       "9437613919  91472258570095.78 ...   0.0907083192894198 0.99927896\n",
       "9437618605 198075947325295.78 ... 0.029413818952691115 0.99830854\n",
       "9437691052 113040273581070.42 ... 0.026024583178333522  0.9011545\n",
       "9437691520 154662656086535.22 ...   0.0662442926373282 0.99121207\n",
       "9437692846 225225499893183.12 ...   0.1830836289678146  0.9163672\n",
       "9437807130  291442335859380.3 ...  0.07171910075631245 0.99973536\n",
       "9437809979 103602262535211.27 ... 0.004207675263258463  0.9815309\n",
       "9437949236 151629288173971.84 ...  0.17422511210347993 0.99761456\n",
       "       ...                ... ...                  ...        ...\n",
       "8940601914 117568231510535.22 ...  0.03017429268009022  0.9737386\n",
       "9002786420 129155852893746.48 ... 0.020208487349462973  0.9940505\n",
       "9003076839  305553864905915.5 ...  0.08323863354746731  0.9755977\n",
       "9003361407  249819953353915.5 ...   0.0525876267344772   0.988743\n",
       "9003381396 185170487440225.38 ...  0.21787550965643815 0.95286214\n",
       "9003393602 129636720986140.84 ...  0.08650341706868998 0.99764764\n",
       "9065869640 145133669996169.03 ...  0.03031710299325059 0.99998987\n",
       "9127508265  183200227904901.4 ...  0.04044492705850825 0.99999565\n",
       "9127512468 121896044342084.52 ...  0.02241496001969612 0.91403705\n",
       "9128700404 121269616178478.88 ...  0.02123178082332284  0.9783978"
      ]
     },
     "execution_count": 35,
     "metadata": {},
     "output_type": "execute_result"
    }
   ],
   "source": [
    "# add ellipticity values to table\n",
    "bcg_pcen0_90_e = bcg_table_pcen0_90['ellipticity']\n",
    "bcg_table_pcen0_90"
   ]
  },
  {
   "cell_type": "code",
   "execution_count": 36,
   "metadata": {},
   "outputs": [
    {
     "name": "stdout",
     "output_type": "stream",
     "text": [
      "The mean lensed ellipticity for p_cen_0 >= 0.9 is 0.09860065858504875\n",
      "The median lensed ellipticity for p_cen_0 >= 0.9 is 0.06536976309359102\n"
     ]
    },
    {
     "data": {
      "image/png": "[encoded data removed]",
      "text/plain": [
       "<Figure size 576x432 with 1 Axes>"
      ]
     },
     "metadata": {
      "needs_background": "light"
     },
     "output_type": "display_data"
    }
   ],
   "source": [
    "# let's plot the distribution\n",
    "\n",
    "# create linear space for plotting the mean and median\n",
    "y = np.linspace(-1, 1e5, 5)\n",
    "x_mean = 0*y + np.mean(bcg_pcen0_90_e)\n",
    "x_med = 0*y + np.median(bcg_pcen0_90_e)\n",
    "\n",
    "print(r'The mean lensed ellipticity for p_cen_0 >= 0.9 is', np.mean(bcg_pcen0_90_e))\n",
    "print(r'The median lensed ellipticity for p_cen_0 >= 0.9 is', np.median(bcg_pcen0_90_e))\n",
    "\n",
    "plt.figure(figsize=(8,6))\n",
    "plt.hist(bcg_pcen0_90_e, bins=100, alpha=0.5)\n",
    "plt.plot(x_mean, y, 'g', label=r'Mean')\n",
    "plt.plot(x_med, y, 'r', label=r'Median')\n",
    "plt.legend(loc='best')\n",
    "plt.xlabel(r'Lensed Ellipticity', fontsize=14)\n",
    "#plt.xlim(-.04,1)\n",
    "plt.ylim(0,300)\n",
    "plt.title(r'Lensed Ellipticity Distribution: $P_{BCG} \\geq 0.9$', fontsize=18)\n",
    "plt.show()"
   ]
  },
  {
   "cell_type": "markdown",
   "metadata": {},
   "source": [
    "Factoring out all cases where `p_cen_0` $< 0.9$ appears to have very minimal effect on the distribution. The difference between the two medians is only about 0.002, and the distribution retains its shape, with most BCGs having an ellipticity between 0 and 0.1."
   ]
  },
  {
   "cell_type": "code",
   "execution_count": null,
   "metadata": {},
   "outputs": [],
   "source": []
  }
 ],
 "metadata": {
  "kernelspec": {
   "display_name": "desc-stack",
   "language": "python",
   "name": "desc-stack"
  },
  "language_info": {
   "codemirror_mode": {
    "name": "ipython",
    "version": 3
   },
   "file_extension": ".py",
   "mimetype": "text/x-python",
   "name": "python",
   "nbconvert_exporter": "python",
   "pygments_lexer": "ipython3",
   "version": "3.7.2"
  }
 },
 "nbformat": 4,
 "nbformat_minor": 4
}
