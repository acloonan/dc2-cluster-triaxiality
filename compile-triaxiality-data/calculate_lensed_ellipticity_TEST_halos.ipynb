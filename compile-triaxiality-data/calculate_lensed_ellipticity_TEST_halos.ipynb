{
 "cells": [
  {
   "cell_type": "markdown",
   "metadata": {},
   "source": [
    "## Test: Calculating Lensed Ellipticity\n",
    "\n",
    "### Aidan Cloonan\n",
    "\n",
    "### August 2020\n",
    "\n",
    "One proxy for galaxy cluster orientation is that of the brightest cluster galaxy (BCG), usually located at or near the geometrical center of the cluster. I'm looking to write a method to return the lensed ellipticity of these central galaxies.\n",
    "\n",
    "**This is a test of the function on matched halos from the matching algorithm. I'm not confident that the matched halos are the BCGs, and I'll be looking to figure this out soon. Some thoughts and questions can be found at the end of this notebook.**"
   ]
  },
  {
   "cell_type": "code",
   "execution_count": 2,
   "metadata": {},
   "outputs": [],
   "source": [
    "# math, array manipulation, etc.\n",
    "import numpy as np\n",
    "import esutil                    # must use desc-stack kernel\n",
    "\n",
    "# get central galaxy/BCG and cluster member data\n",
    "import GCRCatalogs as gcr\n",
    "\n",
    "# astropy\n",
    "import astropy.io.fits as fits                                  # writing to and opening FITS files\n",
    "from astropy.cosmology import FlatLambdaCDM, WMAP7              # making cosmological calculations\n",
    "from astropy import units as u                                  # units\n",
    "from astropy.table import Table                                 # Table data structure\n",
    "\n",
    "# for timing loops \n",
    "from tqdm import *\n",
    "import time\n",
    "\n",
    "# plots\n",
    "import matplotlib.pyplot as plt\n",
    "%matplotlib inline"
   ]
  },
  {
   "cell_type": "markdown",
   "metadata": {},
   "source": [
    "### Cosmology Definition\n",
    "\n",
    "This needs to be agreement with the cosmoDC2 v1.1.4 parameters, as defined with this [link](https://github.com/LSSTDESC/gcr-catalogs/blob/master/GCRCatalogs/catalog_configs/cosmoDC2_v1.1.4_image.yaml).\n",
    "\n",
    "**NOTES:** \n",
    "\n",
    "How can I account for $\\sigma_{8}$ and $n_{s}$? These values are outlined in the link provided above, but I haven't found any `astropy` documentation so far on either of these parameters.\n",
    "\n",
    "I didn't account for this in the matching algorithms, so I'll need to run them again in order to approximate comoving distance more accurately. As of now, I've copied the following cosmology definition and placed it around Input 32 in the matching notebook. I'll look into running the notebook again once I've figured out those two parameters.\n",
    "\n",
    "**Update**: Got it! After loading the catalog, you can simply use the following:\n"
   ]
  },
  {
   "cell_type": "code",
   "execution_count": 39,
   "metadata": {},
   "outputs": [
    {
     "data": {
      "text/plain": [
       "FlatLambdaCDM(H0=71 km / (Mpc s), Om0=0.265, Tcmb0=0 K, Neff=3.04, m_nu=None, Ob0=0.0448)"
      ]
     },
     "execution_count": 39,
     "metadata": {},
     "output_type": "execute_result"
    }
   ],
   "source": [
    "cosmo = redM_gcr.cosmology\n",
    "cosmo"
   ]
  },
  {
   "cell_type": "markdown",
   "metadata": {},
   "source": [
    "### Compile Member Data"
   ]
  },
  {
   "cell_type": "code",
   "execution_count": 3,
   "metadata": {},
   "outputs": [],
   "source": [
    "# get the redMaPPer catalog\n",
    "redM_gcr = gcr.load_catalog('cosmoDC2_v1.1.4_redmapper_v0.5.7')"
   ]
  },
  {
   "cell_type": "code",
   "execution_count": 4,
   "metadata": {},
   "outputs": [
    {
     "name": "stdout",
     "output_type": "stream",
     "text": [
      "All redMaPPer quantities:\n",
      "\n",
      "['refmag_err_member', 'dec_member', 'dec_cen_1', 'p_cen_0', 'ra_cen_2', 'id_cen_4', 'id_member', 'mag_i_lsst_member', 'magerr_y_lsst_member', 'theta_i_member', 'redshift', 'magerr_g_lsst_member', 'redshift_true_cg', 'magerr_z_lsst_member', 'ra', 'mag_g_lsst_member', 'dec', 'p_cen_3', 'dec_cen_4', 'ra_cen_1', 'theta_r_member', 'ra_cen_3', 'p_cen_4', 'redshift_err', 'cluster_id', 'dec_cen_2', 'redshift_true_member', 'scaleval', 'id_cen_0', 'p_member', 'magerr_i_lsst_member', 'id_cen_3', 'ra_cen_0', 'ra_member', 'richness', 'p_cen_1', 'dec_cen_0', 'pfree_member', 'dec_cen_3', 'mag_z_lsst_member', 'cluster_id_member', 'richness_err', 'refmag_member', 'maskfrac', 'id_cen_1', 'id_cen_2', 'magerr_r_lsst_member', 'mag_r_lsst_member', 'p_cen_2', 'mag_y_lsst_member', 'ra_cen_4']\n",
      "\n",
      "Member quantities:\n",
      "\n",
      "['refmag_err_member', 'dec_member', 'id_member', 'mag_i_lsst_member', 'magerr_y_lsst_member', 'theta_i_member', 'magerr_g_lsst_member', 'magerr_z_lsst_member', 'mag_g_lsst_member', 'theta_r_member', 'redshift_true_member', 'p_member', 'magerr_i_lsst_member', 'ra_member', 'pfree_member', 'mag_z_lsst_member', 'cluster_id_member', 'refmag_member', 'magerr_r_lsst_member', 'mag_r_lsst_member', 'mag_y_lsst_member']\n"
     ]
    }
   ],
   "source": [
    "# list all redMaPPer quantities\n",
    "redM_quantities = redM_gcr.list_all_quantities()\n",
    "print(\"All redMaPPer quantities:\\n\")\n",
    "print(redM_quantities)\n",
    "\n",
    "# these are the quantities that describe each cluster's member galaxies\n",
    "member_quantities = [q for q in redM_quantities if 'member' in q]\n",
    "print(\"\\nMember quantities:\\n\")\n",
    "print(member_quantities)"
   ]
  },
  {
   "cell_type": "code",
   "execution_count": 5,
   "metadata": {},
   "outputs": [
    {
     "name": "stdout",
     "output_type": "stream",
     "text": [
      "Number of unfiltered members: 209622\n"
     ]
    }
   ],
   "source": [
    "# get member data and compile cluster IDs\n",
    "member_data = Table(redM_gcr.get_quantities(member_quantities))\n",
    "member_redM_ids = member_data['cluster_id_member']\n",
    "print(\"Number of unfiltered members:\", len(member_data))"
   ]
  },
  {
   "cell_type": "code",
   "execution_count": null,
   "metadata": {},
   "outputs": [],
   "source": [
    "# matched redMaPPer clusters, which involves calling upon that file\n",
    "redM_hdu = fits.open('fits_files/redM_matched_cosmoDC2.fits')\n",
    "\n",
    "redM_table = Table(redM_hdu[1].data)\n",
    "redM_ids = redM_table['cluster_id']\n",
    "\n",
    "redM_hdu.close()"
   ]
  },
  {
   "cell_type": "code",
   "execution_count": null,
   "metadata": {},
   "outputs": [],
   "source": [
    "# find members ONLY for the clusters that were paired with halos in the matching algorithms\n",
    "\n",
    "redM_matched_ind, mem_matched_ind = esutil.numpy_util.match(redM_ids, member_redM_ids)\n",
    "mem_matched_data = member_data[mem_matched_ind]\n",
    "print(len(mem_matched_data))"
   ]
  },
  {
   "cell_type": "code",
   "execution_count": null,
   "metadata": {},
   "outputs": [],
   "source": [
    "# filter out duplicate galaxies\n",
    "uniq_member_ids, uniq_member_ind = np.unique(mem_matched_data['id_member'], return_index=True)\n",
    "\n",
    "# compile unique galaxies\n",
    "filtered_mem_data = mem_matched_data[uniq_member_ind]\n",
    "print (\"There are {} unique members in the dataset.\".format(len(filtered_mem_data)))"
   ]
  },
  {
   "cell_type": "code",
   "execution_count": 9,
   "metadata": {},
   "outputs": [],
   "source": [
    "# extract galaxy IDs from filtered data\n",
    "member_ids = filtered_mem_data['id_member']"
   ]
  },
  {
   "cell_type": "markdown",
   "metadata": {},
   "source": [
    "### Compile Halo Data"
   ]
  },
  {
   "cell_type": "code",
   "execution_count": 13,
   "metadata": {},
   "outputs": [],
   "source": [
    "# get matched halo data\n",
    "halos_hdu = fits.open('fits_files/halos_matched_cosmoDC2.fits')\n",
    "\n",
    "# compile into table\n",
    "halos_table = Table(halos_hdu[1].data)\n",
    "\n",
    "# get galaxy IDs\n",
    "halos_gal_ids = halos_table['galaxy_id']"
   ]
  },
  {
   "cell_type": "markdown",
   "metadata": {},
   "source": [
    "### Compile Central Galaxy (???) Data"
   ]
  },
  {
   "cell_type": "code",
   "execution_count": 3,
   "metadata": {},
   "outputs": [],
   "source": [
    "# get the cosmoDC2 catalog\n",
    "cosmoDC2_gcr = gcr.load_catalog('cosmoDC2_v1.1.4_image')"
   ]
  },
  {
   "cell_type": "code",
   "execution_count": 4,
   "metadata": {},
   "outputs": [],
   "source": [
    "# list the quantities we want, with a query 'is_central == True'\n",
    "bcg_quantities_wanted = ['galaxy_id'\n",
    "                         , 'shear_1'\n",
    "                         , 'shear_2'\n",
    "                         , 'ellipticity_1_true'\n",
    "                         , 'ellipticity_2_true'\n",
    "                         , 'convergence'\n",
    "                        ]\n",
    "query = gcr.GCRQuery('is_central == True', 'halo_mass > 1e13')"
   ]
  },
  {
   "cell_type": "code",
   "execution_count": 5,
   "metadata": {},
   "outputs": [],
   "source": [
    "# read in the BCG data\n",
    "bcg_data = Table(cosmoDC2_gcr.get_quantities(bcg_quantities_wanted, [query]))"
   ]
  },
  {
   "cell_type": "code",
   "execution_count": 6,
   "metadata": {},
   "outputs": [
    {
     "name": "stdout",
     "output_type": "stream",
     "text": [
      "There are 471965 unique central galaxies in the dataset.\n"
     ]
    }
   ],
   "source": [
    "# filter out duplicate galaxies\n",
    "unique_bcg_ID, unique_bcg_ind = np.unique(bcg_data['galaxy_id'], return_index=True)\n",
    "\n",
    "# compile unique central galaxies\n",
    "filtered_bcg_data = bcg_data[unique_bcg_ind]\n",
    "print (\"There are {} unique central galaxies in the dataset.\".format(len(filtered_bcg_data)))"
   ]
  },
  {
   "cell_type": "code",
   "execution_count": 7,
   "metadata": {},
   "outputs": [],
   "source": [
    "# compile BCG IDs\n",
    "bcg_ids = filtered_bcg_data['galaxy_id']"
   ]
  },
  {
   "cell_type": "markdown",
   "metadata": {},
   "source": [
    "### Find Matching Indices"
   ]
  },
  {
   "cell_type": "code",
   "execution_count": 8,
   "metadata": {},
   "outputs": [
    {
     "name": "stdout",
     "output_type": "stream",
     "text": [
      "We matched 3832 galaxies from the BCG data and 3832 from the member data.\n"
     ]
    }
   ],
   "source": [
    "# return indices where BCG and cluster member data match\n",
    "bcg_ind, halo_ind = esutil.numpy_util.match(bcg_ids, halos_gal_ids)\n",
    "print(\"We matched {} galaxies from the BCG data and {} from the member data.\".format(len(bcg_ind), len(halo_ind)))"
   ]
  },
  {
   "cell_type": "code",
   "execution_count": 9,
   "metadata": {},
   "outputs": [],
   "source": [
    "# take galaxies at matched indices\n",
    "bcg_halo_data = filtered_bcg_data[bcg_ind]\n",
    "halo_bcg_data = halos_table[halo_ind]"
   ]
  },
  {
   "cell_type": "markdown",
   "metadata": {},
   "source": [
    "### Calculate Ellipticity"
   ]
  },
  {
   "cell_type": "code",
   "execution_count": 10,
   "metadata": {},
   "outputs": [],
   "source": [
    "# first, compile a bunch of necessary columns\n",
    "halo_shear1 = bcg_halo_data['shear_1']\n",
    "halo_shear2 = bcg_halo_data['shear_2']\n",
    "halo_e1 = bcg_halo_data['ellipticity_1_true']\n",
    "halo_e2 = bcg_halo_data['ellipticity_2_true']\n",
    "halo_kappa = bcg_halo_data['convergence']"
   ]
  },
  {
   "cell_type": "code",
   "execution_count": 10,
   "metadata": {},
   "outputs": [],
   "source": [
    "# now, let's define a function to find lensed ellipticity\n",
    "def calc_lensed_ellipticity(gamma1, gamma2, e_t1, e_t2, kappa):\n",
    "    '''\n",
    "    This function utilizes relations between shear, convergence, and the true ellipticity 1 and 2 values in order to\n",
    "    calculate the lensed ellipticity.\n",
    "    \n",
    "    Inputs:\n",
    "        \n",
    "        gamma1             |    The quantity 'shear_1'\n",
    "        \n",
    "        gamma2             |    The quantity 'shear_2'\n",
    "        \n",
    "        e_t1               |    The quantity 'ellipticity_1_true'\n",
    "        \n",
    "        e_t2               |    The quantity 'ellipticity_2_true'\n",
    "        \n",
    "        kappa              |    The quantity 'convergence'\n",
    "        \n",
    "    Output:\n",
    "    \n",
    "        np.abs(e)          |    The absolute value of the complex number e, as calculated below. Note that the\n",
    "                                absolute value of a complex number, a + b*1j, is found with (a**2 + b**2) ** 0.5.\n",
    "                                This is the distance formula of a complex number plotted on the complex plane.\n",
    "    '''\n",
    "    gamma = gamma1 + gamma2*1j                     # shear (as a complex number, note that 1j is the imaginary number)\n",
    "    e_t = e_t1 + e_t2*1j                           # true or intrinsic ellipticity (as a complex number)\n",
    "    g = gamma / (1.0 - kappa)                      # reduced shear\n",
    "    e = (e_t + g) / (1.0 + (e_t * g.conjugate()))  # lensed ellipticity\n",
    "    \n",
    "    # return lensed ellipticity\n",
    "    return np.abs(e)"
   ]
  },
  {
   "cell_type": "code",
   "execution_count": 12,
   "metadata": {},
   "outputs": [],
   "source": [
    "# calculate lensed ellipticity for the matched halos\n",
    "halo_lensed_e = calc_lensed_ellipticity(halo_shear1, halo_shear2, halo_e1, halo_e2, halo_kappa)"
   ]
  },
  {
   "cell_type": "code",
   "execution_count": 17,
   "metadata": {
    "scrolled": true
   },
   "outputs": [
    {
     "data": {
      "text/html": [
       "&lt;Column name=&apos;ellipticity_1_true&apos; dtype=&apos;float64&apos; length=3832&gt;\n",
       "<table>\n",
       "<tr><td>0.1196524885938723</td></tr>\n",
       "<tr><td>0.25568124572754697</td></tr>\n",
       "<tr><td>0.018869099914284475</td></tr>\n",
       "<tr><td>0.026993586791398176</td></tr>\n",
       "<tr><td>0.13019355909497018</td></tr>\n",
       "<tr><td>0.044564240609935905</td></tr>\n",
       "<tr><td>0.04436608103007487</td></tr>\n",
       "<tr><td>0.025331628145075048</td></tr>\n",
       "<tr><td>0.17876729092761734</td></tr>\n",
       "<tr><td>0.12792134588636692</td></tr>\n",
       "<tr><td>0.032810958269218246</td></tr>\n",
       "<tr><td>0.06510990944929598</td></tr>\n",
       "<tr><td>...</td></tr>\n",
       "<tr><td>0.05535446223236129</td></tr>\n",
       "<tr><td>0.1193265137114783</td></tr>\n",
       "<tr><td>0.06525746340366904</td></tr>\n",
       "<tr><td>0.026209904958184062</td></tr>\n",
       "<tr><td>0.033721477178299694</td></tr>\n",
       "<tr><td>0.03481628676209464</td></tr>\n",
       "<tr><td>0.0944990260691292</td></tr>\n",
       "<tr><td>0.09717729219633252</td></tr>\n",
       "<tr><td>0.051958966230825646</td></tr>\n",
       "<tr><td>0.006998083401426498</td></tr>\n",
       "<tr><td>0.10945524518775969</td></tr>\n",
       "<tr><td>0.011796270653892419</td></tr>\n",
       "</table>"
      ],
      "text/plain": [
       "<Column name='ellipticity_1_true' dtype='float64' length=3832>\n",
       "  0.1196524885938723\n",
       " 0.25568124572754697\n",
       "0.018869099914284475\n",
       "0.026993586791398176\n",
       " 0.13019355909497018\n",
       "0.044564240609935905\n",
       " 0.04436608103007487\n",
       "0.025331628145075048\n",
       " 0.17876729092761734\n",
       " 0.12792134588636692\n",
       "0.032810958269218246\n",
       " 0.06510990944929598\n",
       "                 ...\n",
       " 0.05535446223236129\n",
       "  0.1193265137114783\n",
       " 0.06525746340366904\n",
       "0.026209904958184062\n",
       "0.033721477178299694\n",
       " 0.03481628676209464\n",
       "  0.0944990260691292\n",
       " 0.09717729219633252\n",
       "0.051958966230825646\n",
       "0.006998083401426498\n",
       " 0.10945524518775969\n",
       "0.011796270653892419"
      ]
     },
     "execution_count": 17,
     "metadata": {},
     "output_type": "execute_result"
    }
   ],
   "source": [
    "halo_lensed_e"
   ]
  },
  {
   "cell_type": "code",
   "execution_count": 46,
   "metadata": {},
   "outputs": [
    {
     "name": "stdout",
     "output_type": "stream",
     "text": [
      "The mean lensed ellipticity is 0.09935296612754368\n",
      "The median lensed ellipticity is 0.06610680487624326\n"
     ]
    },
    {
     "data": {
      "image/png": "[encoded data removed]",
      "text/plain": [
       "<Figure size 576x432 with 1 Axes>"
      ]
     },
     "metadata": {
      "needs_background": "light"
     },
     "output_type": "display_data"
    }
   ],
   "source": [
    "# let's plot the distribution\n",
    "\n",
    "# create linear space for plotting the mean and median\n",
    "y = np.linspace(-1, 1e5, 5)\n",
    "x_mean = 0*y + np.mean(halo_lensed_e)\n",
    "x_med = 0*y + np.median(halo_lensed_e)\n",
    "\n",
    "print(\"The mean lensed ellipticity is\", np.mean(halo_lensed_e))\n",
    "print(\"The median lensed ellipticity is\", np.median(halo_lensed_e))\n",
    "\n",
    "plt.figure(figsize=(8,6))\n",
    "plt.hist(halo_lensed_e, bins=100, alpha=0.5)\n",
    "plt.plot(x_mean, y, 'g', label=r'Mean')\n",
    "plt.plot(x_med, y, 'r', label=r'Median')\n",
    "plt.legend(loc='best')\n",
    "plt.xlabel(r'Lensed Ellipticity', fontsize=14)\n",
    "#plt.xlim(-.04,1)\n",
    "plt.ylim(0,300)\n",
    "plt.title('Lensed Ellipticity Distribution', fontsize=20)\n",
    "plt.show()"
   ]
  },
  {
   "cell_type": "markdown",
   "metadata": {},
   "source": [
    "#### A Few Thoughts\n",
    "\n",
    "How would we identify a cluster's BCG? \n",
    "\n",
    "The redMaPPer cluster catalog contains some quantities, such as `id_cen_0`, that might identify the central galaxies. We can these quantities with the following:\n",
    "```python\n",
    "# get the redMaPPer catalog\n",
    "redM_gcr = gcr.load_catalog('cosmoDC2_v1.1.4_redmapper_v0.5.7')\n",
    "\n",
    "# list all redMaPPer quantities\n",
    "redM_quantities = redM_gcr.list_all_quantities()\n",
    "print(\"All redMaPPer quantities:\\n\")\n",
    "print(redM_quantities)\n",
    "\n",
    "# these are the quantities that describe the clusters and the central galaxies\n",
    "cluster_quantities = [q for q in redM_quantities if 'member' not in q]\n",
    "print(\"\\nCluster quantities:\\n\")\n",
    "print(cluster_quantities)\n",
    "```\n",
    "That being said, we also have `id_cen_1` through `id_cen_4`, so what would the difference between each of these be? Which (if any) would be the BCG?\n",
    "\n",
    "If none of them, how else might we identify BCGs? Would it be the most massive member galaxy within some small radius of the center of the cluster? (The center's coordinates are given in the redMaPPer catalog, I believe.)\n",
    "\n",
    "Note that it's likely that none of this can work until the issues with the methods for extracting member quantities with Dask have been addressed."
   ]
  },
  {
   "cell_type": "code",
   "execution_count": 3,
   "metadata": {},
   "outputs": [
    {
     "name": "stdout",
     "output_type": "stream",
     "text": [
      "All redMaPPer quantities:\n",
      "\n",
      "['theta_r_member', 'p_cen_0', 'dec_cen_1', 'magerr_g_lsst_member', 'mag_r_lsst_member', 'mag_i_lsst_member', 'redshift', 'ra', 'mag_z_lsst_member', 'magerr_y_lsst_member', 'magerr_r_lsst_member', 'ra_member', 'mag_g_lsst_member', 'p_member', 'richness', 'dec_cen_2', 'dec_cen_3', 'cluster_id_member', 'redshift_true_cg', 'magerr_i_lsst_member', 'pfree_member', 'refmag_err_member', 'theta_i_member', 'redshift_err', 'richness_err', 'scaleval', 'id_member', 'maskfrac', 'dec_cen_4', 'p_cen_1', 'id_cen_4', 'cluster_id', 'magerr_z_lsst_member', 'redshift_true_member', 'ra_cen_2', 'ra_cen_0', 'id_cen_3', 'id_cen_2', 'p_cen_4', 'dec_cen_0', 'dec_member', 'id_cen_0', 'ra_cen_3', 'mag_y_lsst_member', 'p_cen_2', 'p_cen_3', 'ra_cen_1', 'refmag_member', 'dec', 'ra_cen_4', 'id_cen_1']\n",
      "\n",
      "Cluster quantities:\n",
      "\n",
      "['p_cen_0', 'dec_cen_1', 'redshift', 'ra', 'richness', 'dec_cen_2', 'dec_cen_3', 'redshift_true_cg', 'redshift_err', 'richness_err', 'scaleval', 'maskfrac', 'dec_cen_4', 'p_cen_1', 'id_cen_4', 'cluster_id', 'ra_cen_2', 'ra_cen_0', 'id_cen_3', 'id_cen_2', 'p_cen_4', 'dec_cen_0', 'id_cen_0', 'ra_cen_3', 'p_cen_2', 'p_cen_3', 'ra_cen_1', 'dec', 'ra_cen_4', 'id_cen_1']\n"
     ]
    }
   ],
   "source": [
    "# get the redMaPPer catalog\n",
    "redM_gcr = gcr.load_catalog('cosmoDC2_v1.1.4_redmapper_v0.5.7')\n",
    "\n",
    "# list all redMaPPer quantities\n",
    "redM_quantities = redM_gcr.list_all_quantities()\n",
    "print(\"All redMaPPer quantities:\\n\")\n",
    "print(redM_quantities)\n",
    "\n",
    "# these are the quantities that describe the clusters and the central galaxies\n",
    "cluster_quantities = [q for q in redM_quantities if 'member' not in q]\n",
    "print(\"\\nCluster quantities:\\n\")\n",
    "print(cluster_quantities)"
   ]
  },
  {
   "cell_type": "code",
   "execution_count": null,
   "metadata": {},
   "outputs": [],
   "source": []
  }
 ],
 "metadata": {
  "kernelspec": {
   "display_name": "desc-stack",
   "language": "python",
   "name": "desc-stack"
  },
  "language_info": {
   "codemirror_mode": {
    "name": "ipython",
    "version": 3
   },
   "file_extension": ".py",
   "mimetype": "text/x-python",
   "name": "python",
   "nbconvert_exporter": "python",
   "pygments_lexer": "ipython3",
   "version": "3.7.2"
  }
 },
 "nbformat": 4,
 "nbformat_minor": 4
}
