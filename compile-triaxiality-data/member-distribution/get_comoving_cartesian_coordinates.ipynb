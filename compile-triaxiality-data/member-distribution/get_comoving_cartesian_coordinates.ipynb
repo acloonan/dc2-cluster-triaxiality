{
 "cells": [
  {
   "cell_type": "markdown",
   "metadata": {},
   "source": [
    "## Extracting Comoving Cartesian Coordinates\n",
    "\n",
    "### Aidan Cloonan\n",
    "\n",
    "### August 2020\n",
    "\n",
    "In this notebook, I'm using H5py and dask dataframes to extract cartesian coordinates of all member galaxies found in redMaPPer clusters from HDF5 files. This should work more efficiently than using GCRCatalogs and esutil for the same task.\n",
    "\n",
    "Later, I can use this information to calculate quadrupole moments for our clusters, describing the distribution of member galaxies. We can use this to estimate cluster ellipticity.\n",
    "\n",
    "Note that I do not possess a strong background beyond an introductory level in linear algebra and the mathematics of tensors. Therefore, my explanations of some of the mathematical principles behind the theory might not be sufficiently thorough."
   ]
  },
  {
   "cell_type": "code",
   "execution_count": 1,
   "metadata": {},
   "outputs": [],
   "source": [
    "# math, array manipulation, etc.\n",
    "import numpy as np\n",
    "import esutil                    # must use desc-stack kernel\n",
    "\n",
    "# get central galaxy/BCG and cluster member data\n",
    "import GCRCatalogs as gcr\n",
    "\n",
    "# astropy\n",
    "import astropy.io.fits as fits                     # writing to and opening FITS files\n",
    "from astropy.cosmology import FlatLambdaCDM        # making cosmological calculations\n",
    "from astropy import units as u                     # units\n",
    "from astropy.table import Table                    # Table data structure\n",
    "\n",
    "# for timing loops \n",
    "from tqdm import *\n",
    "import time\n",
    "\n",
    "# plots\n",
    "import matplotlib.pyplot as plt\n",
    "%matplotlib inline\n",
    "\n",
    "# opening and extracting data from HDF5 files\n",
    "import os\n",
    "import h5py\n",
    "\n",
    "# dask data structures, pandas operations, etc.\n",
    "import dask as da\n",
    "import dask.dataframe as dd"
   ]
  },
  {
   "cell_type": "markdown",
   "metadata": {},
   "source": [
    "### Compile Cluster Data\n",
    "\n",
    "The cluster and member data is extracted using GCRCatalogs."
   ]
  },
  {
   "cell_type": "code",
   "execution_count": 2,
   "metadata": {},
   "outputs": [],
   "source": [
    "# redMaPPer catalog\n",
    "redM_gcr = gcr.load_catalog('cosmoDC2_v1.1.4_redmapper_v0.5.7')"
   ]
  },
  {
   "cell_type": "code",
   "execution_count": 3,
   "metadata": {},
   "outputs": [
    {
     "name": "stdout",
     "output_type": "stream",
     "text": [
      "All redMaPPer quantities:\n",
      "\n",
      "['redshift', 'p_cen_1', 'theta_i_member', 'theta_r_member', 'p_cen_0', 'p_member', 'magerr_z_lsst_member', 'id_cen_4', 'pfree_member', 'richness_err', 'magerr_i_lsst_member', 'dec_cen_3', 'dec', 'maskfrac', 'dec_cen_4', 'richness', 'ra_member', 'mag_g_lsst_member', 'ra_cen_2', 'id_cen_3', 'id_cen_2', 'magerr_r_lsst_member', 'cluster_id_member', 'ra_cen_3', 'p_cen_3', 'dec_cen_1', 'p_cen_4', 'redshift_true_cg', 'magerr_y_lsst_member', 'id_member', 'redshift_true_member', 'mag_i_lsst_member', 'refmag_member', 'cluster_id', 'magerr_g_lsst_member', 'dec_cen_0', 'ra_cen_4', 'dec_member', 'refmag_err_member', 'mag_r_lsst_member', 'redshift_err', 'scaleval', 'id_cen_1', 'p_cen_2', 'mag_y_lsst_member', 'ra', 'mag_z_lsst_member', 'id_cen_0', 'dec_cen_2', 'ra_cen_0', 'ra_cen_1']\n",
      "\n",
      "Cluster quantities:\n",
      "\n",
      "['redshift', 'p_cen_1', 'p_cen_0', 'id_cen_4', 'richness_err', 'dec_cen_3', 'dec', 'maskfrac', 'dec_cen_4', 'richness', 'ra_cen_2', 'id_cen_3', 'id_cen_2', 'ra_cen_3', 'p_cen_3', 'dec_cen_1', 'p_cen_4', 'redshift_true_cg', 'cluster_id', 'dec_cen_0', 'ra_cen_4', 'redshift_err', 'scaleval', 'id_cen_1', 'p_cen_2', 'ra', 'id_cen_0', 'dec_cen_2', 'ra_cen_0', 'ra_cen_1']\n",
      "\n",
      "Member quantities:\n",
      "\n",
      "['theta_i_member', 'theta_r_member', 'p_member', 'magerr_z_lsst_member', 'pfree_member', 'magerr_i_lsst_member', 'ra_member', 'mag_g_lsst_member', 'magerr_r_lsst_member', 'cluster_id_member', 'magerr_y_lsst_member', 'id_member', 'redshift_true_member', 'mag_i_lsst_member', 'refmag_member', 'magerr_g_lsst_member', 'dec_member', 'refmag_err_member', 'mag_r_lsst_member', 'mag_y_lsst_member', 'mag_z_lsst_member']\n"
     ]
    }
   ],
   "source": [
    "# list all redMaPPer quantities\n",
    "redM_quantities = redM_gcr.list_all_quantities()\n",
    "print(\"All redMaPPer quantities:\\n\")\n",
    "print(redM_quantities)\n",
    "\n",
    "# these are the quantities that describe the clusters and the central galaxies\n",
    "cluster_quantities = [q for q in redM_quantities if 'member' not in q]\n",
    "print(\"\\nCluster quantities:\\n\")\n",
    "print(cluster_quantities)\n",
    "\n",
    "# these are the quantities that describe each cluster's member galaxies\n",
    "mem_quantities = [q for q in redM_quantities if 'member' in q]\n",
    "print(\"\\nMember quantities:\\n\")\n",
    "print(mem_quantities)"
   ]
  },
  {
   "cell_type": "code",
   "execution_count": 4,
   "metadata": {},
   "outputs": [],
   "source": [
    "# get cluster data\n",
    "redM_data = Table(redM_gcr.get_quantities(cluster_quantities))\n",
    "\n",
    "# get member data\n",
    "mem_data = Table(redM_gcr.get_quantities(mem_quantities))"
   ]
  },
  {
   "cell_type": "code",
   "execution_count": 5,
   "metadata": {},
   "outputs": [
    {
     "name": "stdout",
     "output_type": "stream",
     "text": [
      "There are 209096 unique members in the dataset.\n"
     ]
    }
   ],
   "source": [
    "# filter out duplicate members\n",
    "uniq_mem_ids, uniq_mem_ind = np.unique(mem_data['id_member'], return_index=True)\n",
    "filtered_mem_data = mem_data[uniq_mem_ind]\n",
    "print (\"There are {} unique members in the dataset.\".format(len(filtered_mem_data)))"
   ]
  },
  {
   "cell_type": "code",
   "execution_count": 6,
   "metadata": {},
   "outputs": [],
   "source": [
    "# extract member galaxy IDs\n",
    "mem_ids = filtered_mem_data['id_member']"
   ]
  },
  {
   "cell_type": "raw",
   "metadata": {},
   "source": [
    "# set up dask arrays for member data\n",
    "\n",
    "# I've used a np.zeros array so I can avoid computationally expensive functions. It seems more efficient\n",
    "# to make the data structure with the desired dimensions (number of quantities by number of members) and\n",
    "# then simply replace each row of zeros with the extracted member data of one quantity. \n",
    "\n",
    "mem_da_arr = np.zeros((len(mem_quantities), len(filtered_mem_data)))\n",
    "\n",
    "for ind, q in enumerate(mem_quantities):\n",
    "    mem_da = da.array.from_array(filtered_mem_data[q])\n",
    "    mem_da_arr[ind] = mem_da"
   ]
  },
  {
   "cell_type": "raw",
   "metadata": {},
   "source": [
    "# invert dimensions so that each quantity is a column, not a row\n",
    "mem_da_arr_tp = mem_da_arr.transpose()\n",
    "print(mem_da_arr.shape)\n",
    "print(mem_da_arr_tp.shape)"
   ]
  },
  {
   "cell_type": "raw",
   "metadata": {},
   "source": [
    "# convert to a dask dataframe\n",
    "mem_dd = dd.from_array(mem_da_arr_tp, columns=mem_quantities)"
   ]
  },
  {
   "cell_type": "raw",
   "metadata": {},
   "source": [
    "# make sure our ID is still an integer \n",
    "# converting to a dask dataframe seems to convert IDs to floats\n",
    "\n",
    "id_quantities = [q for q in mem_quantities if 'id' in q]\n",
    "\n",
    "for q in id_quantities:\n",
    "    mem_dd[q] = mem_dd[q].astype(np.int64)"
   ]
  },
  {
   "cell_type": "markdown",
   "metadata": {},
   "source": [
    "### Define Cosmology\n",
    "\n",
    "This needs to be agreement with the cosmoDC2 v1.1.4 parameters, as defined [here](https://github.com/LSSTDESC/gcr-catalogs/blob/master/GCRCatalogs/catalog_configs/cosmoDC2_v1.1.4_image.yaml)."
   ]
  },
  {
   "cell_type": "code",
   "execution_count": 7,
   "metadata": {},
   "outputs": [
    {
     "data": {
      "text/plain": [
       "FlatLambdaCDM(H0=71 km / (Mpc s), Om0=0.265, Tcmb0=0 K, Neff=3.04, m_nu=None, Ob0=0.0448)"
      ]
     },
     "execution_count": 7,
     "metadata": {},
     "output_type": "execute_result"
    }
   ],
   "source": [
    "cosmo = redM_gcr.cosmology\n",
    "cosmo"
   ]
  },
  {
   "cell_type": "markdown",
   "metadata": {},
   "source": [
    "### Append Missing BCG Data to Member Table\n",
    "\n",
    "In the cosmoDC2 redMaPPer member table, some ~250 BCGs, labeled as `id_cen_0` in the cluster table, are missing. I still need that information, so let's add it to the member table"
   ]
  },
  {
   "cell_type": "code",
   "execution_count": 8,
   "metadata": {},
   "outputs": [],
   "source": [
    "# extract BCG IDs\n",
    "bcg_ids = redM_data['id_cen_0']"
   ]
  },
  {
   "cell_type": "code",
   "execution_count": 9,
   "metadata": {},
   "outputs": [],
   "source": [
    "# find indices in member table that correspond to BCGs\n",
    "a, bcgs_in_mem_ind = esutil.numpy_util.match(mem_ids, bcg_ids)\n",
    "\n",
    "# get indices that are NOT found in member table\n",
    "bcg_not_in_mem_ind = [i for i in range(len(bcg_ids)) if i not in bcgs_in_mem_ind]"
   ]
  },
  {
   "cell_type": "code",
   "execution_count": 10,
   "metadata": {},
   "outputs": [],
   "source": [
    "# extract clusters with missing BCGs\n",
    "missing_redM_bcgs = redM_data[bcg_not_in_mem_ind]"
   ]
  },
  {
   "cell_type": "code",
   "execution_count": 11,
   "metadata": {},
   "outputs": [],
   "source": [
    "# list important quantities that we need to append values to\n",
    "q_append_lst = np.array(['id_member', 'ra_member', 'dec_member', 'cluster_id_member'])\n",
    "\n",
    "# list corresponding quantities for cluster table, with attention given to the order\n",
    "cluster_q_append_lst = np.array(['id_cen_0', 'ra_cen_0', 'dec_cen_0', 'cluster_id'])\n",
    "\n",
    "# create an empty dictionary, will soon be converted to an astropy table\n",
    "# quantities will be added, serving as keys referring to their respective arrays \n",
    "# this gets around the issue of column sizes with astropy tables\n",
    "new_mem_dict = {}\n",
    "\n",
    "# loop through all member quantities, appending missing BCG data\n",
    "for q in mem_quantities:\n",
    "    \n",
    "    # extract initial data\n",
    "    init_array = filtered_mem_data[q]\n",
    "        \n",
    "    # if q is an important quantity...\n",
    "    if q in q_append_lst:\n",
    "\n",
    "        # ...store its corresponding BCG quantity in another variable\n",
    "        q_ind = np.where(q_append_lst == q)[0][0] #<-----  the [0][0] is because the np.where data structure is as \n",
    "        bcg_q = cluster_q_append_lst[q_ind]              # follows: tuple(array([indices]),). [0][0] lets me get the\n",
    "                                                         # indices.\n",
    "        # ...extract missing bcg data\n",
    "        missing_array = missing_redM_bcgs[bcg_q]\n",
    "        \n",
    "        # ...put the initial array and missing array in a list\n",
    "        arr_lst = [init_array, missing_array]\n",
    "        \n",
    "        # ...concatenate missing array to initial array\n",
    "        new_array = np.concatenate(arr_lst)\n",
    "        \n",
    "        # ...add new array to dictionary\n",
    "        new_mem_dict[q] = new_array\n",
    "        \n",
    "    # if q is one of the other, less important (AT THIS MOMENT IN TIME) quantities...\n",
    "    elif q not in q_append_lst:\n",
    "        \n",
    "        # ...create an array of a bunch of -1's, since I don't have this data right now\n",
    "        missing_array = np.full((1, len(bcg_not_in_mem_ind)), -1)\n",
    "        \n",
    "        # ...append dummy values to initial array\n",
    "        new_array = np.append(init_array, missing_array)\n",
    "        \n",
    "        # ...add new array to dictionary\n",
    "        new_mem_dict[q] = new_array"
   ]
  },
  {
   "cell_type": "code",
   "execution_count": 12,
   "metadata": {},
   "outputs": [],
   "source": [
    "# now, let's convert our new dictionary to an astropy table\n",
    "new_mem_data = Table(new_mem_dict)"
   ]
  },
  {
   "cell_type": "code",
   "execution_count": 13,
   "metadata": {},
   "outputs": [
    {
     "name": "stderr",
     "output_type": "stream",
     "text": [
      "2159it [00:02, 890.00it/s]"
     ]
    },
    {
     "name": "stdout",
     "output_type": "stream",
     "text": [
      "2460, 118446, cluster ID\n"
     ]
    },
    {
     "name": "stderr",
     "output_type": "stream",
     "text": [
      "3291it [00:03, 864.16it/s]"
     ]
    },
    {
     "name": "stdout",
     "output_type": "stream",
     "text": [
      "3614, 180048, cluster ID\n"
     ]
    },
    {
     "name": "stderr",
     "output_type": "stream",
     "text": [
      "3895it [00:04, 853.69it/s]\n"
     ]
    }
   ],
   "source": [
    "# test value alignment\n",
    "test_bcg_ind, test_new_mem_ind = esutil.numpy_util.match(bcg_ids, new_mem_data['id_member'])\n",
    "\n",
    "# list of misaligned indices\n",
    "misaligned_redM_ind = []\n",
    "misaligned_mem_ind = []\n",
    "\n",
    "# loop through all BCGs and find where values do not match between redMaPPer table and member table\n",
    "# identify which quantities are not aligned at that index\n",
    "for bcg_i, mem_i in tqdm(zip(test_bcg_ind, test_new_mem_ind)):\n",
    "    time.sleep(1e-3)\n",
    "    \n",
    "    # galaxy IDs\n",
    "    if (redM_data['id_cen_0'][bcg_i] != new_mem_data['id_member'][mem_i]):\n",
    "        misaligned_redM_ind.append(bcg_i)\n",
    "        misaligned_mem_ind.append(mem_i)\n",
    "        print('{}, {}, galaxy ID'.format(bcg_i, mem_i))\n",
    "        \n",
    "    # RA\n",
    "    elif (redM_data['ra_cen_0'][bcg_i] != new_mem_data['ra_member'][mem_i]):\n",
    "        misaligned_redM_ind.append(bcg_i)\n",
    "        misaligned_mem_ind.append(mem_i)\n",
    "        print('{}, {}, RA'.format(bcg_i, mem_i))\n",
    "    \n",
    "    # Dec\n",
    "    elif (redM_data['dec_cen_0'][bcg_i] != new_mem_data['dec_member'][mem_i]):\n",
    "        misaligned_redM_ind.append(bcg_i)\n",
    "        misaligned_mem_ind.append(mem_i)\n",
    "        print('{}, {}, Dec'.format(bcg_i, mem_i))\n",
    "        \n",
    "    # cluster IDs\n",
    "    elif (redM_data['cluster_id'][bcg_i] != new_mem_data['cluster_id_member'][mem_i]):\n",
    "        misaligned_redM_ind.append(bcg_i)\n",
    "        misaligned_mem_ind.append(mem_i)\n",
    "        print('{}, {}, cluster ID'.format(bcg_i, mem_i))"
   ]
  },
  {
   "cell_type": "code",
   "execution_count": 14,
   "metadata": {},
   "outputs": [
    {
     "data": {
      "text/html": [
       "<i>Table length=2</i>\n",
       "<table id=\"table46913311362800\" class=\"table-striped table-bordered table-condensed\">\n",
       "<thead><tr><th>cluster_id</th><th>id_cen_0</th><th>p_cen_0</th></tr></thead>\n",
       "<thead><tr><th>int32</th><th>int64</th><th>float32</th></tr></thead>\n",
       "<tr><td>19</td><td>7937689727</td><td>0.4895334</td></tr>\n",
       "<tr><td>2762</td><td>11062691450</td><td>0.9697329</td></tr>\n",
       "</table>"
      ],
      "text/plain": [
       "<Table length=2>\n",
       "cluster_id   id_cen_0   p_cen_0 \n",
       "  int32       int64     float32 \n",
       "---------- ----------- ---------\n",
       "        19  7937689727 0.4895334\n",
       "      2762 11062691450 0.9697329"
      ]
     },
     "execution_count": 14,
     "metadata": {},
     "output_type": "execute_result"
    }
   ],
   "source": [
    "redM_data[misaligned_redM_ind]['cluster_id', 'id_cen_0', 'p_cen_0']"
   ]
  },
  {
   "cell_type": "code",
   "execution_count": 15,
   "metadata": {},
   "outputs": [
    {
     "data": {
      "text/html": [
       "<i>Table length=2</i>\n",
       "<table id=\"table46913311360280\" class=\"table-striped table-bordered table-condensed\">\n",
       "<thead><tr><th>cluster_id_member</th><th>id_member</th></tr></thead>\n",
       "<thead><tr><th>int32</th><th>int64</th></tr></thead>\n",
       "<tr><td>8</td><td>7937689727</td></tr>\n",
       "<tr><td>49</td><td>11062691450</td></tr>\n",
       "</table>"
      ],
      "text/plain": [
       "<Table length=2>\n",
       "cluster_id_member  id_member \n",
       "      int32          int64   \n",
       "----------------- -----------\n",
       "                8  7937689727\n",
       "               49 11062691450"
      ]
     },
     "execution_count": 15,
     "metadata": {},
     "output_type": "execute_result"
    }
   ],
   "source": [
    "filtered_mem_data[misaligned_mem_ind]['cluster_id_member', 'id_member']"
   ]
  },
  {
   "cell_type": "markdown",
   "metadata": {},
   "source": [
    "It seems as though a couple of BCGs (as labeled by the redMaPPer table) have the wrong cluster IDs in the member table. A quick check in our original redMaPPer and member tables (`redM_data`, `filtered_mem_data`) tells us this. This doesn't seem like a difficult fix."
   ]
  },
  {
   "cell_type": "code",
   "execution_count": 16,
   "metadata": {},
   "outputs": [],
   "source": [
    "# same definition as new_mem_data\n",
    "# but now, changes to corrected_mem_data do not transfer to new_mem_data\n",
    "corrected_mem_data = Table(new_mem_dict)"
   ]
  },
  {
   "cell_type": "code",
   "execution_count": 17,
   "metadata": {},
   "outputs": [
    {
     "name": "stderr",
     "output_type": "stream",
     "text": [
      "3895it [00:04, 897.56it/s]\n"
     ]
    }
   ],
   "source": [
    "# loop through all BCGs and find where values do not match between redMaPPer table and member table\n",
    "# reassign cluster IDs from redMaPPer table to mismatched BCGs\n",
    "\n",
    "for bcg_i, mem_i in tqdm(zip(test_bcg_ind, test_new_mem_ind)):\n",
    "    time.sleep(1e-3)\n",
    "    \n",
    "    if (redM_data['cluster_id'][bcg_i] != corrected_mem_data['cluster_id_member'][mem_i]):\n",
    "        \n",
    "        # reassign cluster ID\n",
    "        corrected_mem_data['cluster_id_member'][mem_i] = redM_data['cluster_id'][bcg_i]\n",
    "        \n",
    "        # we don't know p_member for this cluster, so give it a dummy values\n",
    "        corrected_mem_data['p_member'][mem_i] = -1"
   ]
  },
  {
   "cell_type": "code",
   "execution_count": 18,
   "metadata": {},
   "outputs": [
    {
     "name": "stderr",
     "output_type": "stream",
     "text": [
      "3895it [00:04, 890.57it/s]\n"
     ]
    }
   ],
   "source": [
    "# now, lets check again\n",
    "\n",
    "# test value alignment\n",
    "test_bcg_ind2, test_new_mem_ind2 = esutil.numpy_util.match(bcg_ids, corrected_mem_data['id_member'])\n",
    "\n",
    "# loop through all BCGs and find where values do not match between redMaPPer table and member table\n",
    "# identify which quantities are not aligned at that index\n",
    "for bcg_i, mem_i in tqdm(zip(test_bcg_ind2, test_new_mem_ind2)):\n",
    "    time.sleep(1e-3)\n",
    "    \n",
    "    # galaxy IDs\n",
    "    if (redM_data['id_cen_0'][bcg_i] != corrected_mem_data['id_member'][mem_i]):\n",
    "        print('{}, {}, galaxy ID'.format(bcg_i, mem_i))\n",
    "        \n",
    "    # RA\n",
    "    elif (redM_data['ra_cen_0'][bcg_i] != corrected_mem_data['ra_member'][mem_i]):\n",
    "        print('{}, {}, RA'.format(bcg_i, mem_i))\n",
    "    \n",
    "    # Dec\n",
    "    elif (redM_data['dec_cen_0'][bcg_i] != corrected_mem_data['dec_member'][mem_i]):\n",
    "        print('{}, {}, Dec'.format(bcg_i, mem_i))\n",
    "        \n",
    "    # cluster IDs\n",
    "    elif (redM_data['cluster_id'][bcg_i] != corrected_mem_data['cluster_id_member'][mem_i]):\n",
    "        print('{}, {}, cluster ID'.format(bcg_i, mem_i))"
   ]
  },
  {
   "cell_type": "markdown",
   "metadata": {},
   "source": [
    "Awesome! Now we can continue with the task."
   ]
  },
  {
   "cell_type": "code",
   "execution_count": 19,
   "metadata": {},
   "outputs": [],
   "source": [
    "# of course, extract our galaxy IDs\n",
    "corrected_mem_ids = corrected_mem_data['id_member']"
   ]
  },
  {
   "cell_type": "markdown",
   "metadata": {},
   "source": [
    "### Compile Desired Quantities from HDF5 Files\n",
    "\n",
    "Together, these files contain the entirety of the cosmoDC2 simulated dataset. As of now, I'm only aware  that I'll need the Cartesian coordinates and the lensed redshift values. More may be important later, but with this method, it should not be too difficult to add any quantities.\n",
    "\n",
    "All cosmoDC2 galaxy IDs found in the HDF5 files are unique IDs, so we can apply the same method for extracting all quantities."
   ]
  },
  {
   "cell_type": "code",
   "execution_count": 20,
   "metadata": {},
   "outputs": [],
   "source": [
    "# define a function that compiles a dask array of all cosmoDC2 data points\n",
    "def compile_one_quantity(quantity, path):\n",
    "    '''\n",
    "    This function loops through all HDF5 files in a given directory, extracting all data\n",
    "    for a given quantity, and appending that data to a list of dask arrays. Then, all\n",
    "    arrays are concatenated into a 1D array, which serves as the output.\n",
    "    \n",
    "    Inputs:\n",
    "    \n",
    "        quantity        |    The desired quantity.\n",
    "        \n",
    "        path            |    The path to the directory with the HDF5 files\n",
    "        \n",
    "    Output:\n",
    "    \n",
    "        total_con       |    Concatenation of all galaxies' values in the entire simulation. \n",
    "    '''\n",
    "    # empty list, dask arrays will be appended to it\n",
    "    da_arr_lst = []\n",
    "    \n",
    "    print(\"Compiling data...\")\n",
    "    \n",
    "    # now, iterate through all files to get IDs\n",
    "    for hf in tqdm(os.listdir(path)):\n",
    "        \n",
    "        # set a timer\n",
    "        time.sleep(1e-10)\n",
    "        \n",
    "        # lead to file and open it\n",
    "        datafile = os.path.join(path, hf)\n",
    "        open_file = h5py.File(datafile)\n",
    "        \n",
    "        # compile IDs for that file\n",
    "        file_data = open_file[quantity]\n",
    "        \n",
    "        # convert data to dask arrays\n",
    "        da_arr_data = da.array.from_array(file_data)\n",
    "        \n",
    "        # append dask array to list\n",
    "        da_arr_lst.append(da_arr_data)\n",
    "        \n",
    "        #open_file.close()\n",
    "        \n",
    "    # combine the IDs from the dask arrays into one shape\n",
    "    total_con = da.array.concatenate(da_arr_lst, axis=0)\n",
    "    \n",
    "    print(\"Done!\")\n",
    "    print(\"We have {} galaxies in the dataset.\".format(total_con.shape[0]))\n",
    "    \n",
    "    # return this 1D array\n",
    "    return total_con"
   ]
  },
  {
   "cell_type": "code",
   "execution_count": 21,
   "metadata": {},
   "outputs": [],
   "source": [
    "# define path to cosmoDC2 HDF5 files\n",
    "path = '/global/cfs/projectdirs/lsst/shared/xgal/cosmoDC2/cosmoDC2_v1.1.4_rs_scatter_query_tree_double'"
   ]
  },
  {
   "cell_type": "code",
   "execution_count": 22,
   "metadata": {},
   "outputs": [
    {
     "name": "stderr",
     "output_type": "stream",
     "text": [
      "  0%|          | 1/393 [00:00<01:20,  4.88it/s]"
     ]
    },
    {
     "name": "stdout",
     "output_type": "stream",
     "text": [
      "Compiling data...\n"
     ]
    },
    {
     "name": "stderr",
     "output_type": "stream",
     "text": [
      "100%|██████████| 393/393 [00:34<00:00, 11.54it/s]"
     ]
    },
    {
     "name": "stdout",
     "output_type": "stream",
     "text": [
      "Done!\n",
      "We have 2256249331 galaxies in the dataset.\n"
     ]
    },
    {
     "name": "stderr",
     "output_type": "stream",
     "text": [
      "\n"
     ]
    }
   ],
   "source": [
    "# now, let's get all galaxy IDs in cosmoDC2\n",
    "all_galaxy_ids_con = compile_one_quantity('galaxyProperties/galaxyID', path)"
   ]
  },
  {
   "cell_type": "code",
   "execution_count": 23,
   "metadata": {},
   "outputs": [],
   "source": [
    "# find indices where IDs match\n",
    "da_ind, mem_ind = esutil.numpy_util.match(all_galaxy_ids_con, corrected_mem_ids)"
   ]
  },
  {
   "cell_type": "raw",
   "metadata": {
    "scrolled": true
   },
   "source": [
    "# this worked! so we don't need to run this, unless we want to check again for good measure (maybe not a bad idea)\n",
    "# took a solid ~50 minutes or so, though, so be prepared \n",
    "# note that it's not expensive in terms of memory, just in terms of time\n",
    "\n",
    "# extract member IDs from giant concatenate\n",
    "mem_ids_con = all_galaxy_ids_con[da_ind]\n",
    "\n",
    "# let's just make sure that our IDs match at each index\n",
    "for ind, ID in tqdm(enumerate(mem_ids_con)):\n",
    "    time.sleep(1e-3)\n",
    "    assert ind == mem_ind[ind]\n",
    "    assert ID == mem_ids[ind]"
   ]
  },
  {
   "cell_type": "raw",
   "metadata": {},
   "source": [
    "# make a dask dataframe out of our galaxy ID array\n",
    "\n",
    "# not all IDs in cosmoDC2 are members, but I'm using the column names to emphasize\n",
    "# that new quantities resulting from dd.merge apply only to the cluster members\n",
    "\n",
    "all_galaxies_dd = dd.from_array(all_galaxy_ids_con, columns=['id_member'])\n",
    "\n",
    "# add indices to dd, to see if it works\n",
    "all_galaxies_dd['total_dask_index'] = all_galaxies_dd.index"
   ]
  },
  {
   "cell_type": "raw",
   "metadata": {},
   "source": [
    "for i in all_galaxies_dd:\n",
    "    print(i)"
   ]
  },
  {
   "cell_type": "code",
   "execution_count": 24,
   "metadata": {},
   "outputs": [],
   "source": [
    "# this function extracts a quantity for our IDs and adds it to our table\n",
    "def add_q_to_table(compiling_f, quantity, path, da_ind):\n",
    "    '''\n",
    "    Taking the indices of our concatenated cosmoDC2 galaxy IDs, I call upon our quantity compiling function and \n",
    "    filter the result for the galaxies I want.\n",
    "    \n",
    "    Inputs:\n",
    "    \n",
    "        compiling_f      |    The function that extracts all of the data for a single quantity.\n",
    "        \n",
    "        quantity         |    The single quantity that compiling_f extracts.\n",
    "        \n",
    "        path             |    The path to the directory of HDF5 files.\n",
    "        \n",
    "        da_ind           |    The indices of the concatenation that refer to the galaxies I need data for.\n",
    "        \n",
    "    Output:\n",
    "    \n",
    "        filtered_con     |    The values that correspond to the desired galaxies.\n",
    "    '''\n",
    "    # extract all data for a single quantity\n",
    "    total_con = compiling_f(quantity, path)\n",
    "    \n",
    "    # filter the concatenated data for desired galaxies\n",
    "    filtered_con = total_con[da_ind]\n",
    "    \n",
    "    # return filtered data\n",
    "    return filtered_con"
   ]
  },
  {
   "cell_type": "code",
   "execution_count": 25,
   "metadata": {},
   "outputs": [
    {
     "name": "stderr",
     "output_type": "stream",
     "text": [
      "  3%|▎         | 11/393 [00:00<00:03, 99.78it/s]"
     ]
    },
    {
     "name": "stdout",
     "output_type": "stream",
     "text": [
      "Compiling data...\n"
     ]
    },
    {
     "name": "stderr",
     "output_type": "stream",
     "text": [
      "100%|██████████| 393/393 [00:04<00:00, 93.50it/s] \n"
     ]
    },
    {
     "name": "stdout",
     "output_type": "stream",
     "text": [
      "Done!\n",
      "We have 2256249331 galaxies in the dataset.\n"
     ]
    }
   ],
   "source": [
    "# now, let's add the quantities we want\n",
    "\n",
    "# for our coordinates, I am dividing by the dimensionless Hubble parameter because the HDF5 files use Mpc\n",
    "# as their units, whereas we want a comoving coordinate system. this makes sure we're in units of Mpc/h\n",
    "\n",
    "# starting with x coordinates\n",
    "#all_galaxies_dd['x_member'] = compile_one_quantity('galaxyProperties/x', path) / cosmo.h\n",
    "corrected_mem_data['x_member'] = add_q_to_table(compile_one_quantity\n",
    "                                          , 'galaxyProperties/x'\n",
    "                                          , path\n",
    "                                          , da_ind) / cosmo.h"
   ]
  },
  {
   "cell_type": "code",
   "execution_count": 26,
   "metadata": {},
   "outputs": [
    {
     "name": "stderr",
     "output_type": "stream",
     "text": [
      "  3%|▎         | 12/393 [00:00<00:03, 104.19it/s]"
     ]
    },
    {
     "name": "stdout",
     "output_type": "stream",
     "text": [
      "Compiling data...\n"
     ]
    },
    {
     "name": "stderr",
     "output_type": "stream",
     "text": [
      "100%|██████████| 393/393 [00:06<00:00, 64.97it/s]\n"
     ]
    },
    {
     "name": "stdout",
     "output_type": "stream",
     "text": [
      "Done!\n",
      "We have 2256249331 galaxies in the dataset.\n"
     ]
    }
   ],
   "source": [
    "# y coordinates\n",
    "#all_galaxies_dd['y_member'] = compile_one_quantity('galaxyProperties/y', path) / cosmo.h\n",
    "corrected_mem_data['y_member'] = add_q_to_table(compile_one_quantity\n",
    "                                          , 'galaxyProperties/y'\n",
    "                                          , path\n",
    "                                          , da_ind) / cosmo.h"
   ]
  },
  {
   "cell_type": "code",
   "execution_count": 27,
   "metadata": {},
   "outputs": [
    {
     "name": "stderr",
     "output_type": "stream",
     "text": [
      "  5%|▌         | 21/393 [00:00<00:01, 194.33it/s]"
     ]
    },
    {
     "name": "stdout",
     "output_type": "stream",
     "text": [
      "Compiling data...\n"
     ]
    },
    {
     "name": "stderr",
     "output_type": "stream",
     "text": [
      "100%|██████████| 393/393 [00:02<00:00, 131.51it/s]\n"
     ]
    },
    {
     "name": "stdout",
     "output_type": "stream",
     "text": [
      "Done!\n",
      "We have 2256249331 galaxies in the dataset.\n"
     ]
    }
   ],
   "source": [
    "# z coordinates\n",
    "#all_galaxies_dd['z_member'] = compile_one_quantity('galaxyProperties/z', path) / cosmo.h\n",
    "corrected_mem_data['z_member'] = add_q_to_table(compile_one_quantity\n",
    "                                          , 'galaxyProperties/z'\n",
    "                                          , path\n",
    "                                          , da_ind) / cosmo.h"
   ]
  },
  {
   "cell_type": "code",
   "execution_count": 28,
   "metadata": {
    "scrolled": true
   },
   "outputs": [
    {
     "name": "stderr",
     "output_type": "stream",
     "text": [
      "  4%|▎         | 14/393 [00:00<00:03, 124.89it/s]"
     ]
    },
    {
     "name": "stdout",
     "output_type": "stream",
     "text": [
      "Compiling data...\n"
     ]
    },
    {
     "name": "stderr",
     "output_type": "stream",
     "text": [
      "100%|██████████| 393/393 [00:05<00:00, 78.11it/s]\n"
     ]
    },
    {
     "name": "stdout",
     "output_type": "stream",
     "text": [
      "Done!\n",
      "We have 2256249331 galaxies in the dataset.\n"
     ]
    }
   ],
   "source": [
    "# lensed redshift\n",
    "#all_galaxies_dd['redshift_member'] = compile_one_quantity('galaxyProperties/redshift', path)\n",
    "corrected_mem_data['redshift_member'] = add_q_to_table(compile_one_quantity\n",
    "                                                 , 'galaxyProperties/redshift'\n",
    "                                                 , path\n",
    "                                                 , da_ind)"
   ]
  },
  {
   "cell_type": "markdown",
   "metadata": {},
   "source": [
    "### Calculate Comoving Distance to Respective BCGs\n",
    "\n",
    "Each cluster has a BCG, or a candidate most likely to be the BCG. Let's use the Pythagorean Theorem to find comoving distance to the most-likely BCG for each cluster and its members.\n",
    "\n",
    "This will be useful in making diagnostic plots."
   ]
  },
  {
   "cell_type": "code",
   "execution_count": 30,
   "metadata": {},
   "outputs": [],
   "source": [
    "# define a function to return cluster members' comoving distance to their respective BCG\n",
    "def calc_dcmv_to_bcg(bcg, cluster_members):\n",
    "    '''\n",
    "    Add description.\n",
    "    '''\n",
    "    # extract BCG quantities\n",
    "    bcg_id = bcg['id_member']\n",
    "    bcg_ra = bcg['ra_member']\n",
    "    bcg_dec = bcg['dec_member']\n",
    "    bcg_x = bcg['x_member']\n",
    "    bcg_y = bcg['y_member']\n",
    "    bcg_z = bcg['z_member']\n",
    "    \n",
    "    # extract member quantities\n",
    "    mem_id = cluster_members['id_member']\n",
    "    mem_ra = cluster_members['ra_member']\n",
    "    mem_dec = cluster_members['dec_member']\n",
    "    mem_x = cluster_members['x_member']\n",
    "    mem_y = cluster_members['y_member']\n",
    "    mem_z = cluster_members['z_member']\n",
    "    \n",
    "    # # let's calculate the comoving distance of each member galaxy to the BCG,\n",
    "    # using the Pythagorean theorem\n",
    "    delta_x = bcg_x - mem_x\n",
    "    delta_y = bcg_y - mem_y\n",
    "    delta_z = bcg_z - mem_z\n",
    "    \n",
    "    dist_cmv = np.sqrt(delta_x**2 + delta_y**2 + delta_z**2)\n",
    "    \n",
    "    # return the array of comoving distances\n",
    "    return dist_cmv"
   ]
  },
  {
   "cell_type": "code",
   "execution_count": 31,
   "metadata": {},
   "outputs": [
    {
     "name": "stderr",
     "output_type": "stream",
     "text": [
      "3895it [00:08, 443.78it/s]\n"
     ]
    }
   ],
   "source": [
    "# loop through each cluster ID, extract members and BCG, append the corresponding arrays of indices to a list\n",
    "# append corresponding arrays of comoving distances to a list\n",
    "# the penultimate step can be used to reorganize filtered_mem_data so that it's aligned with our comoving distances\n",
    "\n",
    "dcmv_arrays = []\n",
    "mem_ind_arrays = []\n",
    "\n",
    "for redM_ind, redM_id in tqdm(enumerate(redM_data['cluster_id'])):\n",
    "    \n",
    "    # time loop\n",
    "    time.sleep(1e-3)\n",
    "    \n",
    "    # find members, and extract that data\n",
    "    cur_mem_ind = np.where(corrected_mem_data['cluster_id_member'] == redM_id)[0]\n",
    "    members = corrected_mem_data[cur_mem_ind]\n",
    "    \n",
    "    # find BCG and extract its data\n",
    "    cur_bcg_ind = np.where(members['id_member'] == bcg_ids[redM_ind])\n",
    "    assert len(cur_bcg_ind[0]) == 1\n",
    "    bcg = members[cur_bcg_ind]\n",
    "    \n",
    "    # now, calculate comoving distance to BCG using our function\n",
    "    dcmv_to_bcg = calc_dcmv_to_bcg(bcg, members)\n",
    "    \n",
    "    # append our arrays to lists\n",
    "    dcmv_arrays.append(dcmv_to_bcg)\n",
    "    mem_ind_arrays.append(cur_mem_ind)"
   ]
  },
  {
   "cell_type": "code",
   "execution_count": 32,
   "metadata": {},
   "outputs": [],
   "source": [
    "# concatenate our two lists of arrays\n",
    "dcmv_con = np.concatenate(dcmv_arrays, axis=0)\n",
    "mem_ind_con = np.concatenate(mem_ind_arrays, axis=0)"
   ]
  },
  {
   "cell_type": "code",
   "execution_count": 33,
   "metadata": {
    "scrolled": true
   },
   "outputs": [],
   "source": [
    "# reorganize member table so dcmv_con is aligned with it\n",
    "reorg_mem_data = corrected_mem_data[mem_ind_con]"
   ]
  },
  {
   "cell_type": "code",
   "execution_count": 34,
   "metadata": {},
   "outputs": [],
   "source": [
    "# add comoving distance values\n",
    "reorg_mem_data['dcmv_to_bcg'] = dcmv_con"
   ]
  },
  {
   "cell_type": "code",
   "execution_count": 35,
   "metadata": {},
   "outputs": [],
   "source": [
    "# add indices to table\n",
    "mem_indices = range(0, len(reorg_mem_data))\n",
    "reorg_mem_data['index_reorg_member'] = mem_indices"
   ]
  },
  {
   "cell_type": "code",
   "execution_count": 36,
   "metadata": {
    "scrolled": true
   },
   "outputs": [
    {
     "data": {
      "text/html": [
       "<i>Table length=209349</i>\n",
       "<table id=\"table46913313705936\" class=\"table-striped table-bordered table-condensed\">\n",
       "<thead><tr><th>theta_i_member</th><th>theta_r_member</th><th>p_member</th><th>magerr_z_lsst_member</th><th>pfree_member</th><th>magerr_i_lsst_member</th><th>ra_member</th><th>mag_g_lsst_member</th><th>magerr_r_lsst_member</th><th>cluster_id_member</th><th>magerr_y_lsst_member</th><th>id_member</th><th>redshift_true_member</th><th>mag_i_lsst_member</th><th>refmag_member</th><th>magerr_g_lsst_member</th><th>dec_member</th><th>refmag_err_member</th><th>mag_r_lsst_member</th><th>mag_y_lsst_member</th><th>mag_z_lsst_member</th><th>x_member</th><th>y_member</th><th>z_member</th><th>redshift_member</th><th>dcmv_to_bcg</th><th>index_reorg_member</th></tr></thead>\n",
       "<thead><tr><th>float64</th><th>float64</th><th>float64</th><th>float64</th><th>float64</th><th>float64</th><th>float64</th><th>float64</th><th>float64</th><th>int32</th><th>float64</th><th>int64</th><th>float64</th><th>float64</th><th>float64</th><th>float64</th><th>float64</th><th>float64</th><th>float64</th><th>float64</th><th>float64</th><th>float64</th><th>float64</th><th>float64</th><th>float64</th><th>float64</th><th>int64</th></tr></thead>\n",
       "<tr><td>1.0</td><td>1.0</td><td>0.9249618649482727</td><td>0.01361379586160183</td><td>1.0</td><td>0.013324134051799774</td><td>52.48969836161335</td><td>23.003864288330078</td><td>0.012910188175737858</td><td>12</td><td>0.016537154093384743</td><td>1312795327</td><td>0.46568745374679565</td><td>20.69964027404785</td><td>20.33612060546875</td><td>0.022609034553170204</td><td>-25.6943737207595</td><td>0.01361379586160183</td><td>21.52256965637207</td><td>20.107200622558594</td><td>20.33612060546875</td><td>976.1950855523768</td><td>1271.3525046764964</td><td>-771.1515184859155</td><td>0.4656874599400389</td><td>150.5271792183379</td><td>0</td></tr>\n",
       "<tr><td>1.0</td><td>1.0</td><td>0.4355485737323761</td><td>0.01956796459853649</td><td>1.0</td><td>0.02186170220375061</td><td>52.56066037353878</td><td>23.700746536254883</td><td>0.016571104526519775</td><td>12</td><td>0.026465928182005882</td><td>1312795617</td><td>0.463066428899765</td><td>21.3643798828125</td><td>20.926054000854492</td><td>0.03124331124126911</td><td>-25.734542263897715</td><td>0.01956796459853649</td><td>22.137237548828125</td><td>20.743114471435547</td><td>20.926054000854492</td><td>964.2811949823944</td><td>1259.0652680732835</td><td>-764.3491073393486</td><td>0.46306641879213584</td><td>168.7959182891847</td><td>1</td></tr>\n",
       "<tr><td>1.0</td><td>0.9935204982757568</td><td>0.47011590003967285</td><td>0.00906715914607048</td><td>1.0</td><td>0.013831843622028828</td><td>52.45504290793168</td><td>21.817319869995117</td><td>0.010996241122484207</td><td>12</td><td>0.013380728662014008</td><td>1312796086</td><td>0.4644679129123688</td><td>19.488988876342773</td><td>19.12019920349121</td><td>0.0125978859141469</td><td>-25.690068236843494</td><td>0.00906715914607048</td><td>20.30079460144043</td><td>18.93964958190918</td><td>19.12019920349121</td><td>974.6541627695863</td><td>1267.7559006382044</td><td>-769.1735495983716</td><td>0.4644679249164363</td><td>154.81044692140702</td><td>2</td></tr>\n",
       "<tr><td>1.0</td><td>0.02883181907236576</td><td>0.5008500814437866</td><td>0.026296531781554222</td><td>1.0</td><td>0.020549405366182327</td><td>52.59432129400586</td><td>23.91261863708496</td><td>0.0252662543207407</td><td>12</td><td>0.035913508385419846</td><td>1312801968</td><td>0.46582430601119995</td><td>21.667015075683594</td><td>21.326026916503906</td><td>0.04010055586695671</td><td>-25.675001477440986</td><td>0.026296531781554222</td><td>22.435503005981445</td><td>21.088634490966797</td><td>21.326026916503906</td><td>974.805547150088</td><td>1274.3646326199384</td><td>-771.2361080545775</td><td>0.4658242937539965</td><td>149.1152451160488</td><td>3</td></tr>\n",
       "<tr><td>1.0</td><td>1.0</td><td>0.9200580716133118</td><td>0.016507215797901154</td><td>1.0</td><td>0.015561521053314209</td><td>52.50765050243398</td><td>22.94911003112793</td><td>0.015973161906003952</td><td>12</td><td>0.027594851329922676</td><td>1312865878</td><td>0.47737905383110046</td><td>20.72014808654785</td><td>20.351329803466797</td><td>0.020492883399128914</td><td>-25.67836441555039</td><td>0.016507215797901154</td><td>21.531723022460938</td><td>20.172149658203125</td><td>20.351329803466797</td><td>998.7192932988556</td><td>1301.5321543518926</td><td>-788.7044557383363</td><td>0.4773790631140069</td><td>108.98872059713874</td><td>4</td></tr>\n",
       "<tr><td>1.0</td><td>0.9999985098838806</td><td>0.7476855516433716</td><td>0.01012681145220995</td><td>1.0</td><td>0.010151414200663567</td><td>52.563682403154225</td><td>22.24069595336914</td><td>0.008272180333733559</td><td>12</td><td>0.01907743141055107</td><td>1312867096</td><td>0.4963301122188568</td><td>19.818819046020508</td><td>19.438135147094727</td><td>0.021089952439069748</td><td>-25.674756689108</td><td>0.01012681145220995</td><td>20.684274673461914</td><td>19.24573516845703</td><td>19.438135147094727</td><td>1024.6404943331868</td><td>1338.0285988391286</td><td>-810.082577987456</td><td>0.4963301139605203</td><td>59.43104749725195</td><td>5</td></tr>\n",
       "<tr><td>1.0</td><td>1.0</td><td>0.9495214223861694</td><td>0.01848895289003849</td><td>1.0</td><td>0.019010266289114952</td><td>52.55942196012862</td><td>23.97201156616211</td><td>0.020039526745676994</td><td>12</td><td>0.028148062527179718</td><td>1312867098</td><td>0.4960091710090637</td><td>21.586580276489258</td><td>21.15340232849121</td><td>0.03329237550497055</td><td>-25.673945048611515</td><td>0.01848895289003849</td><td>22.46592903137207</td><td>20.920316696166992</td><td>21.15340232849121</td><td>1024.6271697568222</td><td>1337.8056485887985</td><td>-809.9638603102993</td><td>0.49600916845805276</td><td>59.64720166244176</td><td>6</td></tr>\n",
       "<tr><td>1.0</td><td>1.0</td><td>0.8600738644599915</td><td>0.02063916251063347</td><td>1.0</td><td>0.011741163209080696</td><td>52.48824068704142</td><td>23.625934600830078</td><td>0.018205979838967323</td><td>12</td><td>0.02439119666814804</td><td>1312869335</td><td>0.4930513799190521</td><td>21.371383666992188</td><td>20.970579147338867</td><td>0.026396462693810463</td><td>-25.750256667499805</td><td>0.02063916251063347</td><td>22.16670799255371</td><td>20.761144638061523</td><td>20.970579147338867</td><td>1020.0922576474472</td><td>1328.4381705270687</td><td>-807.8048491142166</td><td>0.49305139435671075</td><td>69.75357841206353</td><td>7</td></tr>\n",
       "<tr><td>1.0</td><td>1.0</td><td>0.9408507943153381</td><td>0.019848061725497246</td><td>1.0</td><td>0.01319526694715023</td><td>52.497440717387995</td><td>23.821813583374023</td><td>0.021141154691576958</td><td>12</td><td>0.01741008646786213</td><td>1312930204</td><td>0.505284309387207</td><td>21.444765090942383</td><td>21.034381866455078</td><td>0.033607542514801025</td><td>-25.684160242300184</td><td>0.019848061725497246</td><td>22.2694091796875</td><td>20.80902671813965</td><td>21.034381866455078</td><td>1043.3371960277289</td><td>1359.1626664282571</td><td>-823.9380742462588</td><td>0.5052842835777165</td><td>28.059331706156105</td><td>8</td></tr>\n",
       "<tr><td>1.0</td><td>1.0</td><td>0.924595832824707</td><td>0.01866275444626808</td><td>1.0</td><td>0.0165490061044693</td><td>52.47252472078352</td><td>23.747753143310547</td><td>0.016672246158123016</td><td>12</td><td>0.025804227218031883</td><td>1312930910</td><td>0.5082538723945618</td><td>21.24725341796875</td><td>20.855070114135742</td><td>0.02117355726659298</td><td>-25.716805591145693</td><td>0.01866275444626808</td><td>22.194690704345703</td><td>20.613672256469727</td><td>20.855070114135742</td><td>1061.0878528003961</td><td>1381.027694487236</td><td>-838.6898416868398</td><td>0.508253855698195</td><td>4.013621920876479</td><td>9</td></tr>\n",
       "<tr><td>...</td><td>...</td><td>...</td><td>...</td><td>...</td><td>...</td><td>...</td><td>...</td><td>...</td><td>...</td><td>...</td><td>...</td><td>...</td><td>...</td><td>...</td><td>...</td><td>...</td><td>...</td><td>...</td><td>...</td><td>...</td><td>...</td><td>...</td><td>...</td><td>...</td><td>...</td><td>...</td></tr>\n",
       "<tr><td>1.0</td><td>1.0</td><td>0.9355036020278931</td><td>0.05004790052771568</td><td>1.0</td><td>0.03821638599038124</td><td>73.98018953436063</td><td>26.41980743408203</td><td>0.05388786643743515</td><td>24301</td><td>0.06275258213281631</td><td>11441224779</td><td>1.2305513620376587</td><td>23.684274673461914</td><td>22.93914222717285</td><td>0.07953451573848724</td><td>-43.2240420525676</td><td>0.05004790052771568</td><td>24.85004997253418</td><td>22.326025009155273</td><td>22.93914222717285</td><td>778.4695324809524</td><td>2710.9196546934218</td><td>-2649.79301892713</td><td>1.2305513983030836</td><td>1.0006629401746086</td><td>209339</td></tr>\n",
       "<tr><td>1.0</td><td>1.0</td><td>0.6697827577590942</td><td>0.05038540065288544</td><td>1.0</td><td>0.04609241709113121</td><td>73.98852916875786</td><td>26.576107025146484</td><td>0.057651929557323456</td><td>24301</td><td>0.050924427807331085</td><td>11441224780</td><td>1.2282055616378784</td><td>23.679983139038086</td><td>22.950204849243164</td><td>0.08505371958017349</td><td>-43.24782731535705</td><td>0.05038540065288544</td><td>24.943008422851562</td><td>22.209686279296875</td><td>22.950204849243164</td><td>777.8642584959985</td><td>2710.275979000474</td><td>-2651.2485541171404</td><td>1.2282055199756265</td><td>1.1171303686374618</td><td>209340</td></tr>\n",
       "<tr><td>1.0</td><td>1.0</td><td>0.7761179208755493</td><td>0.05123729631304741</td><td>1.0</td><td>0.03638554364442825</td><td>73.98928741110956</td><td>26.901954650878906</td><td>0.06948750466108322</td><td>24301</td><td>0.04730764403939247</td><td>11441224781</td><td>1.2283865213394165</td><td>23.979990005493164</td><td>23.18348503112793</td><td>0.09598490595817566</td><td>-43.25230496240613</td><td>0.05123729631304741</td><td>25.183349609375</td><td>22.53067398071289</td><td>23.18348503112793</td><td>777.5856358907818</td><td>2709.432632825215</td><td>-2650.827366626928</td><td>1.2283865115188641</td><td>1.069277940566621</td><td>209341</td></tr>\n",
       "<tr><td>1.0</td><td>1.0</td><td>0.450857013463974</td><td>0.052442487329244614</td><td>1.0</td><td>0.048421382904052734</td><td>73.98056596719724</td><td>27.232179641723633</td><td>0.0707910880446434</td><td>24301</td><td>0.08237402886152267</td><td>11441224782</td><td>1.2300591468811035</td><td>24.254615783691406</td><td>23.505746841430664</td><td>0.13096122443675995</td><td>-43.228151661614035</td><td>0.052442487329244614</td><td>25.476831436157227</td><td>22.674259185791016</td><td>23.505746841430664</td><td>778.2175442600642</td><td>2710.106928735644</td><td>-2649.371435960269</td><td>1.230059190638399</td><td>0.8385907095041196</td><td>209342</td></tr>\n",
       "<tr><td>1.0</td><td>1.0</td><td>0.30219247937202454</td><td>0.048838283866643906</td><td>1.0</td><td>0.05852484703063965</td><td>73.99694036283164</td><td>27.007734298706055</td><td>0.062265798449516296</td><td>24301</td><td>0.06851908564567566</td><td>11441224783</td><td>1.2263720035552979</td><td>24.120433807373047</td><td>23.285505294799805</td><td>0.14491534233093262</td><td>-43.22231894210105</td><td>0.048838283866643906</td><td>25.32581329345703</td><td>22.51665687561035</td><td>23.285505294799805</td><td>777.7045035751569</td><td>2711.2347304811</td><td>-2649.7275464467625</td><td>1.226372061054001</td><td>1.3720943037656903</td><td>209343</td></tr>\n",
       "<tr><td>1.0</td><td>1.0</td><td>0.912939190864563</td><td>0.03783365711569786</td><td>1.0</td><td>0.04658098891377449</td><td>73.97152892071966</td><td>26.722198486328125</td><td>0.05678796395659447</td><td>24301</td><td>0.04164736345410347</td><td>11441224784</td><td>1.2359217405319214</td><td>23.957775115966797</td><td>23.181499481201172</td><td>0.1289779394865036</td><td>-43.23545294186606</td><td>0.03783365711569786</td><td>25.076656341552734</td><td>22.465259552001953</td><td>23.181499481201172</td><td>778.6551649258233</td><td>2710.0245074109</td><td>-2650.081112826548</td><td>1.2359217786938332</td><td>0.471779394597381</td><td>209344</td></tr>\n",
       "<tr><td>1.0</td><td>1.0</td><td>0.9607617259025574</td><td>0.03749331086874008</td><td>1.0</td><td>0.04282671958208084</td><td>73.98166490438541</td><td>26.539962768554688</td><td>0.07140162587165833</td><td>24301</td><td>0.07285594195127487</td><td>11441224785</td><td>1.2307316064834595</td><td>23.914745330810547</td><td>23.10381317138672</td><td>0.10679289698600769</td><td>-43.23196244009682</td><td>0.03749331086874008</td><td>25.088951110839844</td><td>22.447452545166016</td><td>23.10381317138672</td><td>778.3002157581969</td><td>2710.5878125201784</td><td>-2650.1775758575823</td><td>1.2307315889497206</td><td>0.5482272830826385</td><td>209345</td></tr>\n",
       "<tr><td>1.0</td><td>1.0</td><td>0.8841922283172607</td><td>0.04927298054099083</td><td>1.0</td><td>0.03428500518202782</td><td>73.98846043717387</td><td>26.44024658203125</td><td>0.05721326917409897</td><td>24301</td><td>0.049081217497587204</td><td>11441224786</td><td>1.2330211400985718</td><td>23.784385681152344</td><td>23.071866989135742</td><td>0.10283810645341873</td><td>-43.23422996920414</td><td>0.04927298054099083</td><td>24.97756576538086</td><td>22.362812042236328</td><td>23.071866989135742</td><td>777.9392492864381</td><td>2710.5349862421</td><td>-2650.2463097978216</td><td>1.2330211876392583</td><td>0.5531654922347731</td><td>209346</td></tr>\n",
       "<tr><td>1.0</td><td>1.0</td><td>0.9478685259819031</td><td>0.05052643269300461</td><td>1.0</td><td>0.06879717111587524</td><td>73.98722260872115</td><td>26.907026290893555</td><td>0.05849852040410042</td><td>24301</td><td>0.06687095016241074</td><td>11441224787</td><td>1.2348767518997192</td><td>24.18674087524414</td><td>23.34897232055664</td><td>0.08554695546627045</td><td>-43.230579101638014</td><td>0.05052643269300461</td><td>25.221364974975586</td><td>22.713642120361328</td><td>23.34897232055664</td><td>777.9435633572289</td><td>2710.3324657337844</td><td>-2649.727838076733</td><td>1.234876809255475</td><td>0.6140576372167245</td><td>209347</td></tr>\n",
       "<tr><td>0.9045189619064331</td><td>0.9771885275840759</td><td>0.043684229254722595</td><td>0.06521869450807571</td><td>1.0</td><td>0.05988956615328789</td><td>73.98572049524961</td><td>27.16496467590332</td><td>0.11510628461837769</td><td>24301</td><td>0.09467054158449173</td><td>11441501903</td><td>1.2841732501983643</td><td>24.657018661499023</td><td>23.884780883789062</td><td>0.09996645897626877</td><td>-43.205121416087415</td><td>0.06521869450807571</td><td>26.04589080810547</td><td>23.18260383605957</td><td>23.884780883789062</td><td>799.7527646346831</td><td>2786.0085070972714</td><td>-2721.3679783780813</td><td>1.2841732152253167</td><td>106.29205753685189</td><td>209348</td></tr>\n",
       "</table>"
      ],
      "text/plain": [
       "<Table length=209349>\n",
       "  theta_i_member      theta_r_member   ...    dcmv_to_bcg     index_reorg_member\n",
       "     float64             float64       ...      float64             int64       \n",
       "------------------ ------------------- ... ------------------ ------------------\n",
       "               1.0                 1.0 ...  150.5271792183379                  0\n",
       "               1.0                 1.0 ...  168.7959182891847                  1\n",
       "               1.0  0.9935204982757568 ... 154.81044692140702                  2\n",
       "               1.0 0.02883181907236576 ...  149.1152451160488                  3\n",
       "               1.0                 1.0 ... 108.98872059713874                  4\n",
       "               1.0  0.9999985098838806 ...  59.43104749725195                  5\n",
       "               1.0                 1.0 ...  59.64720166244176                  6\n",
       "               1.0                 1.0 ...  69.75357841206353                  7\n",
       "               1.0                 1.0 ... 28.059331706156105                  8\n",
       "               1.0                 1.0 ...  4.013621920876479                  9\n",
       "               ...                 ... ...                ...                ...\n",
       "               1.0                 1.0 ... 1.0006629401746086             209339\n",
       "               1.0                 1.0 ... 1.1171303686374618             209340\n",
       "               1.0                 1.0 ...  1.069277940566621             209341\n",
       "               1.0                 1.0 ... 0.8385907095041196             209342\n",
       "               1.0                 1.0 ... 1.3720943037656903             209343\n",
       "               1.0                 1.0 ...  0.471779394597381             209344\n",
       "               1.0                 1.0 ... 0.5482272830826385             209345\n",
       "               1.0                 1.0 ... 0.5531654922347731             209346\n",
       "               1.0                 1.0 ... 0.6140576372167245             209347\n",
       "0.9045189619064331  0.9771885275840759 ... 106.29205753685189             209348"
      ]
     },
     "execution_count": 36,
     "metadata": {},
     "output_type": "execute_result"
    }
   ],
   "source": [
    "# have a look at our table\n",
    "reorg_mem_data"
   ]
  },
  {
   "cell_type": "code",
   "execution_count": 37,
   "metadata": {},
   "outputs": [],
   "source": [
    "# JUST TO MAKE SURE, let's see if all the BCG dist_cmv values are 0. they should be, if it worked correctly.\n",
    "# extract BCGs\n",
    "a, b = esutil.numpy_util.match(bcg_ids, reorg_mem_data['id_member'])\n",
    "test_bcg_table = reorg_mem_data[b]"
   ]
  },
  {
   "cell_type": "code",
   "execution_count": 38,
   "metadata": {},
   "outputs": [
    {
     "name": "stdout",
     "output_type": "stream",
     "text": [
      "There are 3895 BCGs with the correct comoving distance value.\n"
     ]
    }
   ],
   "source": [
    "# find where dcmv_to_bcg is 0\n",
    "correct_dcmv_ind = np.where(test_bcg_table['dcmv_to_bcg'] == 0.0)\n",
    "\n",
    "# print length, and assert that all of the BCG dcmv values are 0 by comparing to the length of the redMaPPer table\n",
    "correct_dcmv_len = len(correct_dcmv_ind[0])\n",
    "assert correct_dcmv_len == len(redM_data)\n",
    "print(\"There are {} BCGs with the correct comoving distance value.\".format(correct_dcmv_len))"
   ]
  },
  {
   "cell_type": "markdown",
   "metadata": {},
   "source": [
    "This is a good sign. So, at least for now, I have a lot more confidence that this method worked properly.\n",
    "\n",
    "### Diagnostic Plots\n",
    "\n",
    "There are a few questions I'm interested in looking at here, listed below. I will try to get some answers through looking at distributions.\n",
    "\n",
    "Note that comoving radius is referring to the comoving distance to the BCG\n",
    "\n",
    "1. Generally, what percentage of galaxies do clusters contain that are within or beyond a defined comoving radius constraint?\n",
    "2. What are typical median values for comoving radius? 75th percentile? 90th percentile?\n",
    "3. How far away are the clusters' most distant assigned members?\n",
    "\n",
    "I will add more if/as I think of them."
   ]
  },
  {
   "cell_type": "code",
   "execution_count": 39,
   "metadata": {},
   "outputs": [],
   "source": [
    "# extract cluster IDs\n",
    "cluster_ids = redM_data['cluster_id']"
   ]
  },
  {
   "cell_type": "markdown",
   "metadata": {},
   "source": [
    "#### 1. Member Count within or beyond some Constraint"
   ]
  },
  {
   "cell_type": "code",
   "execution_count": 40,
   "metadata": {},
   "outputs": [],
   "source": [
    "# for each cluster, find its members, and then find where dcmv_to_bcg is smaller/larger than some value\n",
    "# append this length to an array\n",
    "\n",
    "def find_proportions_within_and_beyond(cluster_ids, member_table, dcmv_constraint, percent):\n",
    "    \n",
    "    mem_within = np.array([])\n",
    "    mem_beyond = np.array([])\n",
    "    mem_within_p = np.array([])\n",
    "    mem_beyond_p = np.array([])\n",
    "\n",
    "    dcmv_lim = dcmv_constraint\n",
    "\n",
    "    for redM_id in cluster_ids:\n",
    "        \n",
    "        # time loop\n",
    "        time.sleep(1e-3)\n",
    "    \n",
    "        # find members\n",
    "        cur_mem_inds = np.where(member_table['cluster_id_member'] == redM_id)[0]\n",
    "        cur_mem = member_table[cur_mem_inds]\n",
    "    \n",
    "        # extract dcmv values\n",
    "        cur_mem_dcmv = cur_mem['dcmv_to_bcg']\n",
    "    \n",
    "        # find where mem_dcmv meets and doesn't meet the constraint\n",
    "        cur_mem_within_ind = np.where(cur_mem_dcmv <= dcmv_lim)[0]\n",
    "        cur_mem_beyond_ind = np.where(cur_mem_dcmv > dcmv_lim)[0]\n",
    "    \n",
    "        # get percentage values\n",
    "        within_p = len(cur_mem_within_ind) / len(cur_mem)\n",
    "        beyond_p = len(cur_mem_beyond_ind) / len(cur_mem)\n",
    "    \n",
    "        # get numbers of indices as 1x1 arrays\n",
    "        cur_mem_within = np.array([len(cur_mem_within_ind)])\n",
    "        cur_mem_beyond = np.array([len(cur_mem_beyond_ind)])\n",
    "        cur_mem_within_p = np.array([within_p])\n",
    "        cur_mem_beyond_p = np.array([beyond_p])\n",
    "    \n",
    "        # append numbers of indices to arrays\n",
    "        mem_within = np.append(mem_within, cur_mem_within)\n",
    "        mem_beyond = np.append(mem_beyond, cur_mem_beyond)\n",
    "        mem_within_p = np.append(mem_within_p, cur_mem_within_p)\n",
    "        mem_beyond_p = np.append(mem_beyond_p, cur_mem_beyond_p)\n",
    "\n",
    "    # plot the distribution of percentages\n",
    "\n",
    "    # get percentile values\n",
    "    within_percent = np.percentile(mem_within_p, percent)\n",
    "    beyond_percent = np.percentile(mem_beyond_p, percent)\n",
    "    \n",
    "    # to make graphs like the ones in the block below, simply uncomment the code below\n",
    "    '''print(\"The {}th proportion of members within {} Mpc/h of the BCG is {}.\".format(percent, dcmv_lim, within_med))\n",
    "    print(\"The {}th proportion of members beyond {} Mpc/h of the BCG is {}.\".format(percent, dcmv_lim, beyond_med))\n",
    "\n",
    "    # get vertical lines at these values\n",
    "    y = np.linspace(-1, 1e5, 5)\n",
    "    x_w = 0*y + within_percent\n",
    "    x_b = 0*y + beyond_percent\n",
    "\n",
    "    fig = plt.figure(figsize=(8,6))\n",
    "\n",
    "    # histogram\n",
    "    within_h = plt.hist(mem_within_p, bins=50, color='b', histtype=u'step', label='Within {} Mpc/h'.format(dcmv_lim))\n",
    "    beyond_h = plt.hist(mem_beyond_p, bins=50, color='r', histtype=u'step', label='Beyond{} Mpc/h'.format(dcmv_lim))\n",
    "\n",
    "    # lines\n",
    "    within_m = plt.plot(x_w, y, c='c', label='within_h median') \n",
    "    beyond_m = plt.plot(x_b, y, c='orange', label='beyond_h median')\n",
    "\n",
    "    # title and axes\n",
    "    plt.title(\"Percentage of Clusters' Members within {} Mpc/h\".format(dcmv_lim), fontsize=18)\n",
    "    plt.xlabel(r'Proportion of Galaxies Within or Beyond', fontsize=14)\n",
    "    plt.ylabel(r'Frequency')\n",
    "\n",
    "    # misc.\n",
    "    if dcmv_lim < 2:\n",
    "        plt.legend(loc='upper right')\n",
    "    elif dcmv_lim >= 2:\n",
    "        plt.legend(loc='upper center')\n",
    "    \n",
    "    plt.ylim(0,275)\n",
    "\n",
    "    plt.show()'''\n",
    "    \n",
    "    # return the arrays and/or the medians\n",
    "    #return mem_within, mem_beyond, mem_within_p, mem_beyond_p, within_med, beyond_med\n",
    "    return within_percent, beyond_percent"
   ]
  },
  {
   "cell_type": "code",
   "execution_count": 302,
   "metadata": {
    "collapsed": true
   },
   "outputs": [
    {
     "name": "stdout",
     "output_type": "stream",
     "text": [
      "The median proportion of members within 1 Mpc/h of the BCG is 0.4406779661016949.\n",
      "The median proportion of members beyond 1 Mpc/h of the BCG is 0.559322033898305.\n"
     ]
    },
    {
     "data": {
      "image/png": "[encoded data removed]",
      "text/plain": [
       "<Figure size 576x432 with 1 Axes>"
      ]
     },
     "metadata": {
      "needs_background": "light"
     },
     "output_type": "display_data"
    },
    {
     "name": "stdout",
     "output_type": "stream",
     "text": [
      "The median proportion of members within 5 Mpc/h of the BCG is 0.7142857142857143.\n",
      "The median proportion of members beyond 5 Mpc/h of the BCG is 0.2857142857142857.\n"
     ]
    },
    {
     "data": {
      "image/png": "[encoded data removed]",
      "text/plain": [
       "<Figure size 576x432 with 1 Axes>"
      ]
     },
     "metadata": {
      "needs_background": "light"
     },
     "output_type": "display_data"
    },
    {
     "name": "stdout",
     "output_type": "stream",
     "text": [
      "The median proportion of members within 10 Mpc/h of the BCG is 0.7368421052631579.\n",
      "The median proportion of members beyond 10 Mpc/h of the BCG is 0.2631578947368421.\n"
     ]
    },
    {
     "data": {
      "image/png": "[encoded data removed]",
      "text/plain": [
       "<Figure size 576x432 with 1 Axes>"
      ]
     },
     "metadata": {
      "needs_background": "light"
     },
     "output_type": "display_data"
    }
   ],
   "source": [
    "# plot a few graphs\n",
    "\n",
    "w_med_1, b_med_1 = find_proportions_within_and_beyond(cluster_ids, reorg_mem_data, dcmv_constraint=1, percent=50)\n",
    "w_med_5, b_med_5 = find_proportions_within_and_beyond(cluster_ids, reorg_mem_data, dcmv_constraint=5, percent=50)\n",
    "w_med_10, b_med_10 = find_proportions_within_and_beyond(cluster_ids, reorg_mem_data, dcmv_constraint=10, percent=50)\n",
    "#w_med_15, b_med_15 = find_proportions_within_and_beyond(cluster_ids, reorg_mem_data, 15, 50)\n",
    "#w_med_20, b_med_20 = find_proportions_within_and_beyond(cluster_ids, reorg_mem_data, 20, 50)"
   ]
  },
  {
   "cell_type": "code",
   "execution_count": 41,
   "metadata": {},
   "outputs": [
    {
     "name": "stderr",
     "output_type": "stream",
     "text": [
      "100%|██████████| 50/50 [05:53<00:00,  7.06s/it]\n"
     ]
    }
   ],
   "source": [
    "# let's see when the median starts to fall off\n",
    "\n",
    "within_50 = np.array([])\n",
    "'''\n",
    "within_40 = np.array([])\n",
    "within_30 = np.array([])\n",
    "within_20 = np.array([])'''\n",
    "\n",
    "x = np.linspace(0,50,50)\n",
    "\n",
    "for num in tqdm(x):\n",
    "    \n",
    "    # time loop\n",
    "    time.sleep(1e-3)\n",
    "    \n",
    "    # run function without graphing portion\n",
    "    w_50, b_50 = find_proportions_within_and_beyond(cluster_ids, reorg_mem_data, dcmv_constraint=num, percent=50)\n",
    "    '''\n",
    "    w_40, b_40 = find_proportions_within_and_beyond(cluster_ids, reorg_mem_data, dcmv_constraint=num, percent=40)\n",
    "    w_30, b_30 = find_proportions_within_and_beyond(cluster_ids, reorg_mem_data, dcmv_constraint=num, percent=30)\n",
    "    w_20, b_20 = find_proportions_within_and_beyond(cluster_ids, reorg_mem_data, dcmv_constraint=num, percent=20)\n",
    "    '''\n",
    "    # append values\n",
    "    within_50 = np.append(within_50, np.array([w_50]))\n",
    "    '''\n",
    "    within_40 = np.append(within_40, np.array([w_40]))\n",
    "    within_30 = np.append(within_30, np.array([w_30]))\n",
    "    within_20 = np.append(within_20, np.array([w_20]))'''"
   ]
  },
  {
   "cell_type": "code",
   "execution_count": 42,
   "metadata": {},
   "outputs": [],
   "source": [
    "# import fitting tool\n",
    "from scipy.optimize import curve_fit"
   ]
  },
  {
   "cell_type": "code",
   "execution_count": 43,
   "metadata": {},
   "outputs": [
    {
     "name": "stderr",
     "output_type": "stream",
     "text": [
      "/opt/lsst/software/stack/python/miniconda3-4.7.10/envs/lsst-scipipe-4d7b902/lib/python3.7/site-packages/ipykernel/__main__.py:9: RuntimeWarning: invalid value encountered in log\n"
     ]
    },
    {
     "data": {
      "text/plain": [
       "'\\np_opt40, p_cov40 = curve_fit(l, x, y40)\\np_opt30, p_cov30 = curve_fit(l, x, y30)\\np_opt20, p_cov20 = curve_fit(l, x, y20)'"
      ]
     },
     "execution_count": 43,
     "metadata": {},
     "output_type": "execute_result"
    }
   ],
   "source": [
    "# here's a couple functions to try fitting with\n",
    "\n",
    "# rational function\n",
    "def f(x,a,b):\n",
    "    return -a/x + b\n",
    "\n",
    "# logarithmic function\n",
    "def l(x,a,b,c,d):\n",
    "    return a*np.log(b*x + c) + d\n",
    "\n",
    "# our fitting data\n",
    "# recall x = np.linspace(0,50,50)\n",
    "y50 = within_50\n",
    "'''\n",
    "y40 = within_40\n",
    "y30 = within_30\n",
    "y20 = within_20'''\n",
    "\n",
    "# extract best fit parameters and covariance\n",
    "p_opt50, p_cov50 = curve_fit(l, x, y50)\n",
    "'''\n",
    "p_opt40, p_cov40 = curve_fit(l, x, y40)\n",
    "p_opt30, p_cov30 = curve_fit(l, x, y30)\n",
    "p_opt20, p_cov20 = curve_fit(l, x, y20)'''"
   ]
  },
  {
   "cell_type": "code",
   "execution_count": 45,
   "metadata": {},
   "outputs": [
    {
     "data": {
      "text/plain": [
       "Text(0, 0.5, 'Proportion of Members within $D_{cmv}$')"
      ]
     },
     "execution_count": 45,
     "metadata": {},
     "output_type": "execute_result"
    },
    {
     "data": {
      "image/png": "[encoded data removed]",
      "text/plain": [
       "<Figure size 864x648 with 1 Axes>"
      ]
     },
     "metadata": {
      "needs_background": "light"
     },
     "output_type": "display_data"
    }
   ],
   "source": [
    "# make a scatter plot\n",
    "\n",
    "fig = plt.figure(figsize=(12,9))\n",
    "\n",
    "# scatter\n",
    "data = plt.scatter(x, y50, c='b', s=5, label='Medians')\n",
    "\n",
    "# best fits\n",
    "fit50 = plt.plot(x, l(x, *p_opt50), 'red', label='Fit')\n",
    "'''\n",
    "fit40 = plt.plot(x, l(x, *p_opt60), 'orange', label='40')\n",
    "fit30 = plt.plot(x, l(x, *p_opt70), 'green', label='30')\n",
    "fit20 = plt.plot(x, l(x, *p_opt80), 'blue', label='20')'''\n",
    "\n",
    "plt.title(r'Medians of Enclosed Member Proportions', fontsize=20)\n",
    "\n",
    "lg = plt.legend(loc='lower right', fontsize=14)\n",
    "\n",
    "plt.xlabel(r'$R_{\\rm cmv}$ Constraint ($\\rm Mpc$ $\\rm h^{-1}$)', fontsize=16)\n",
    "plt.ylabel(r'Proportion of Members within $D_{cmv}$', fontsize=16)"
   ]
  },
  {
   "cell_type": "markdown",
   "metadata": {},
   "source": [
    "It seems as though most of the member galaxies fall within just a few $\\rm Mpc$ $\\rm h^{-1}$ of their respective BCGs, which feels like a good sign.\n",
    "\n",
    "We can also clearly see that the median proportion of galaxies within a comoving distance constraint seems to only start dropping around $R_{\\rm cmv} = 9$ $\\rm Mpc$ $\\rm h^{-1}$ or so. The best fit curve I've included doesn't seem to be that good, and maybe it wasn't necessary, but I think it and the scatter plot still get this point across. When we begin calculating quadrupole moments, if we wanted to constrain our dataset to within some comoving radius of respective BCGs, we could use a smaller value without sacrificing too much member data.\n",
    "\n",
    "I'm unsure, though, whether or not a median of ~70% is good enough. Let's discuss this at some point.\n",
    "\n",
    "#### 2. Comoving Radius Percentiles"
   ]
  },
  {
   "cell_type": "code",
   "execution_count": 46,
   "metadata": {},
   "outputs": [],
   "source": [
    "# define a function that compiles each cluster's comoving radius at a specific percentile\n",
    "def get_dcmv_at_percentile(cluster_ids, member_table, percent):\n",
    "    \n",
    "    # array of dcmv values at percentile\n",
    "    dcmv_percent = np.array([])\n",
    "    \n",
    "    # loop through cluster IDs\n",
    "    for redM_id in tqdm(cluster_ids):\n",
    "        \n",
    "        # time loop\n",
    "        time.sleep(1e-3)\n",
    "        \n",
    "        # find members\n",
    "        cur_mem_inds = np.where(member_table['cluster_id_member'] == redM_id)[0]\n",
    "        cur_mem = member_table[cur_mem_inds]\n",
    "    \n",
    "        # extract dcmv values\n",
    "        cur_mem_dcmv = cur_mem['dcmv_to_bcg']\n",
    "        \n",
    "        # find percentile's value\n",
    "        cur_dcmv_percent = np.percentile(cur_mem_dcmv, percent)\n",
    "        \n",
    "        # append percentile value to array\n",
    "        dcmv_percent = np.append(dcmv_percent, cur_dcmv_percent)\n",
    "        \n",
    "    # return array of dcmv percentile values\n",
    "    return dcmv_percent"
   ]
  },
  {
   "cell_type": "code",
   "execution_count": 47,
   "metadata": {},
   "outputs": [
    {
     "name": "stderr",
     "output_type": "stream",
     "text": [
      "100%|██████████| 3895/3895 [00:07<00:00, 516.51it/s]\n",
      "100%|██████████| 3895/3895 [00:07<00:00, 510.81it/s]\n",
      "100%|██████████| 3895/3895 [00:07<00:00, 506.50it/s]\n",
      "100%|██████████| 3895/3895 [00:07<00:00, 506.07it/s]\n"
     ]
    }
   ],
   "source": [
    "# now, let's get some different percentiles\n",
    "dcmv_50 = get_dcmv_at_percentile(cluster_ids, reorg_mem_data, percent=50)\n",
    "dcmv_60 = get_dcmv_at_percentile(cluster_ids, reorg_mem_data, percent=60)\n",
    "dcmv_70 = get_dcmv_at_percentile(cluster_ids, reorg_mem_data, percent=70)\n",
    "dcmv_80 = get_dcmv_at_percentile(cluster_ids, reorg_mem_data, percent=80)"
   ]
  },
  {
   "cell_type": "code",
   "execution_count": 67,
   "metadata": {},
   "outputs": [
    {
     "data": {
      "image/png": "[encoded data removed]",
      "text/plain": [
       "<Figure size 864x648 with 1 Axes>"
      ]
     },
     "metadata": {
      "needs_background": "light"
     },
     "output_type": "display_data"
    }
   ],
   "source": [
    "# let's plot and compare histograms for our 4 arrays\n",
    "\n",
    "fig = plt.figure(figsize=(12,9))\n",
    "\n",
    "h_50 = plt.hist(dcmv_50, bins=75, color='blue', histtype=u'step', label='50')\n",
    "h_60 = plt.hist(dcmv_60, bins=75, color='green', histtype=u'step', label='60')\n",
    "h_70 = plt.hist(dcmv_70, bins=75, color='orange', histtype=u'step', label='70')\n",
    "h_80 = plt.hist(dcmv_80, bins=75, color='red', histtype=u'step', label='80')\n",
    "\n",
    "\n",
    "# title and axes\n",
    "plt.title(r'Distribution of $R_{\\rm cmv}$ Percentiles', fontsize=22)\n",
    "plt.xlabel(r'$R_{\\rm cmv}$ Percentiles ($\\rm Mpc$ $\\rm h^{-1}$)', fontsize=16)\n",
    "plt.ylabel(r'Frequency', fontsize=16)\n",
    "\n",
    "# misc.\n",
    "plt.legend(loc='upper right', fontsize=14)\n",
    "plt.xlim(-20,500)\n",
    "plt.ylim(0,len(redM_data))\n",
    "plt.show()"
   ]
  },
  {
   "cell_type": "markdown",
   "metadata": {},
   "source": [
    "Most clusters appear to have small median $R_{\\rm cmv}$ values, and it seems as though a majority of clusters have small $R_{\\rm cmv}$ values, in the first bin, even up past the 70th percentile. There are a handful of clusters with very high $R_{\\rm cmv}$ values at different percentiles, however. Still, I'd imagine that we can extract enough data from each cluster, or at least, in order to calculate its ellipticity.\n",
    "\n",
    "#### 3. Distribution of Highest Comoving Radii"
   ]
  },
  {
   "cell_type": "code",
   "execution_count": 49,
   "metadata": {},
   "outputs": [
    {
     "name": "stderr",
     "output_type": "stream",
     "text": [
      "100%|██████████| 3895/3895 [00:07<00:00, 535.72it/s]\n"
     ]
    }
   ],
   "source": [
    "# array of higher comoving radii values\n",
    "dcmv_max = np.array([])\n",
    "\n",
    "# array of redshift ranges\n",
    "redshift_range = np.array([])\n",
    "\n",
    "# loop through cluster IDs\n",
    "for redM_id in tqdm(cluster_ids):\n",
    "    \n",
    "    # time loop\n",
    "    time.sleep(1e-3)\n",
    "    \n",
    "    # find members\n",
    "    cur_mem_inds = np.where(reorg_mem_data['cluster_id_member'] == redM_id)[0]\n",
    "    cur_mem = reorg_mem_data[cur_mem_inds]\n",
    "    \n",
    "    # get max comoving radius\n",
    "    cur_dcmv_max = np.max(cur_mem['dcmv_to_bcg'])\n",
    "    \n",
    "    # append to array\n",
    "    dcmv_max = np.append(dcmv_max, cur_dcmv_max)"
   ]
  },
  {
   "cell_type": "code",
   "execution_count": 50,
   "metadata": {},
   "outputs": [
    {
     "name": "stdout",
     "output_type": "stream",
     "text": [
      "The median maximum comoving radius is 368.032087360415.\n"
     ]
    },
    {
     "data": {
      "image/png": "[encoded data removed]",
      "text/plain": [
       "<Figure size 720x518.4 with 1 Axes>"
      ]
     },
     "metadata": {
      "needs_background": "light"
     },
     "output_type": "display_data"
    }
   ],
   "source": [
    "# extract median\n",
    "dcmv_max_med = np.median(dcmv_max)\n",
    "\n",
    "print(\"The median maximum comoving radius is {}.\".format(dcmv_max_med))\n",
    "\n",
    "# get vertical lines at these values\n",
    "y_max = np.linspace(-1, 1e5, 5)\n",
    "x_max = 0*y_max + dcmv_max_med\n",
    "\n",
    "fig = plt.figure(figsize=(10,7.2))\n",
    "\n",
    "# histogram\n",
    "dcmv_max_h = plt.hist(dcmv_max, bins=50, color='b', histtype=u'step', label='dcmv_max_h')\n",
    "\n",
    "# lines\n",
    "max_med = plt.plot(x_max, y_max, c='red', label='dcmv_max median') \n",
    "\n",
    "# title and axes\n",
    "plt.title(r\"Distribution of Maximum $R_{\\rm cmv}$ Values\", fontsize=20)\n",
    "plt.xlabel(r'Max $R_{\\rm cmv}$ ($\\rm Mpc$ $\\rm h^{-1}$)', fontsize=14)\n",
    "plt.ylabel(r'Frequency', fontsize=14)\n",
    "\n",
    "plt.legend(loc='upper right', fontsize=12)\n",
    "plt.ylim(0,300)\n",
    "plt.show()"
   ]
  },
  {
   "cell_type": "markdown",
   "metadata": {},
   "source": [
    "An overwhelming majority of clusters have outliers, as is clear in the graph above. Assuming that there are no problems with my code that I'm overlooking at the moment, this might mean we should constrain our member data by $R_{\\rm cmv}$. I'll need to look more into my code.\n",
    "\n",
    "### Write Member Data to FITS File"
   ]
  },
  {
   "cell_type": "code",
   "execution_count": 54,
   "metadata": {},
   "outputs": [],
   "source": [
    "reorg_mem_data.write('../fits_files/mem_table_with_comoving_distance_to_bcgs_1.fits', format='fits')"
   ]
  },
  {
   "cell_type": "markdown",
   "metadata": {},
   "source": [
    "### Extract One Cluster\n",
    "\n",
    "This cluster is the one that I use in my GCR test, also found in this folder."
   ]
  },
  {
   "cell_type": "code",
   "execution_count": 60,
   "metadata": {},
   "outputs": [
    {
     "name": "stdout",
     "output_type": "stream",
     "text": [
      "4000531618\n",
      "4001943549\n"
     ]
    }
   ],
   "source": [
    "# get smallest and largest IDs for one cluster, will be used to query the get_quantities function\n",
    "clusters = np.unique(redM_data['cluster_id'])\n",
    "cluster = clusters[0]\n",
    "one_cluster = reorg_mem_data[np.where(reorg_mem_data['cluster_id_member'] == cluster)]\n",
    "print(np.min(one_cluster['id_member']))\n",
    "print(np.max(one_cluster['id_member']))"
   ]
  },
  {
   "cell_type": "code",
   "execution_count": 61,
   "metadata": {
    "scrolled": true
   },
   "outputs": [
    {
     "data": {
      "text/html": [
       "<i>Table length=343</i>\n",
       "<table id=\"table46917812110784\" class=\"table-striped table-bordered table-condensed\">\n",
       "<thead><tr><th>theta_i_member</th><th>theta_r_member</th><th>p_member</th><th>magerr_z_lsst_member</th><th>pfree_member</th><th>magerr_i_lsst_member</th><th>ra_member</th><th>mag_g_lsst_member</th><th>magerr_r_lsst_member</th><th>cluster_id_member</th><th>magerr_y_lsst_member</th><th>id_member</th><th>redshift_true_member</th><th>mag_i_lsst_member</th><th>refmag_member</th><th>magerr_g_lsst_member</th><th>dec_member</th><th>refmag_err_member</th><th>mag_r_lsst_member</th><th>mag_y_lsst_member</th><th>mag_z_lsst_member</th><th>x_member</th><th>y_member</th><th>z_member</th><th>redshift_member</th><th>dcmv_to_bcg</th><th>index_reorg_member</th></tr></thead>\n",
       "<thead><tr><th>float64</th><th>float64</th><th>float64</th><th>float64</th><th>float64</th><th>float64</th><th>float64</th><th>float64</th><th>float64</th><th>int32</th><th>float64</th><th>int64</th><th>float64</th><th>float64</th><th>float64</th><th>float64</th><th>float64</th><th>float64</th><th>float64</th><th>float64</th><th>float64</th><th>float64</th><th>float64</th><th>float64</th><th>float64</th><th>float64</th><th>int64</th></tr></thead>\n",
       "<tr><td>1.0</td><td>1.0</td><td>0.12359227240085602</td><td>0.0323040746152401</td><td>1.0</td><td>0.024878066033124924</td><td>50.17814085973227</td><td>25.133922576904297</td><td>0.031035777181386948</td><td>1</td><td>0.04451210796833038</td><td>4000531618</td><td>0.5690668225288391</td><td>22.744705200195312</td><td>22.373661041259766</td><td>0.05159137770533562</td><td>-31.145342797385947</td><td>0.0323040746152401</td><td>23.761577606201172</td><td>22.171871185302734</td><td>22.373661041259766</td><td>1154.9172038763343</td><td>1384.7105214293574</td><td>-1089.5523339929716</td><td>0.5690668404244217</td><td>578.8003839434352</td><td>55021</td></tr>\n",
       "<tr><td>1.0</td><td>0.9999604821205139</td><td>0.08042027801275253</td><td>0.020763855427503586</td><td>1.0</td><td>0.02082090452313423</td><td>50.17034297118035</td><td>24.811025619506836</td><td>0.03075704723596573</td><td>1</td><td>0.024549685418605804</td><td>4000751615</td><td>0.6342937350273132</td><td>22.023969650268555</td><td>21.599916458129883</td><td>0.044891562312841415</td><td>-31.114668853493406</td><td>0.020763855427503586</td><td>23.2497501373291</td><td>21.201114654541016</td><td>21.599916458129883</td><td>1269.8791718818773</td><td>1522.1655509841275</td><td>-1196.3280906139964</td><td>0.6342937514804166</td><td>370.2165605163865</td><td>55022</td></tr>\n",
       "<tr><td>1.0</td><td>0.920137345790863</td><td>0.02704525552690029</td><td>0.014319696463644505</td><td>1.0</td><td>0.018986091017723083</td><td>50.07344261516842</td><td>24.198392868041992</td><td>0.02342911809682846</td><td>1</td><td>0.02515452727675438</td><td>4000855416</td><td>0.6919025182723999</td><td>21.422143936157227</td><td>20.996320724487305</td><td>0.028568945825099945</td><td>-31.148916314723223</td><td>0.014319696463644505</td><td>22.61460304260254</td><td>20.65546989440918</td><td>20.996320724487305</td><td>1370.0237435354313</td><td>1636.5471638424297</td><td>-1289.7585586762764</td><td>0.6919024983552968</td><td>191.8278493143281</td><td>55023</td></tr>\n",
       "<tr><td>1.0</td><td>1.0</td><td>0.25955823063850403</td><td>0.03535545989871025</td><td>1.0</td><td>0.024201620370149612</td><td>50.17979788771395</td><td>25.146352767944336</td><td>0.043038785457611084</td><td>1</td><td>0.054759759455919266</td><td>4000914401</td><td>0.6782712936401367</td><td>22.638713836669922</td><td>22.2967529296875</td><td>0.04394949972629547</td><td>-31.203223343976596</td><td>0.03535545989871025</td><td>23.82598876953125</td><td>22.007991790771484</td><td>22.2967529296875</td><td>1340.3831804302376</td><td>1607.198194047095</td><td>-1267.3639861630722</td><td>0.678271310237921</td><td>238.94061894453034</td><td>55024</td></tr>\n",
       "<tr><td>0.06089901924133301</td><td>0.9992694854736328</td><td>0.8670969605445862</td><td>0.03561076894402504</td><td>1.0</td><td>0.02503846026957035</td><td>50.0802766563703</td><td>25.968107223510742</td><td>0.03785271197557449</td><td>1</td><td>0.05268234759569168</td><td>4000985118</td><td>0.7332167625427246</td><td>23.13766860961914</td><td>22.645065307617188</td><td>0.07196616381406784</td><td>-31.18611735140271</td><td>0.03561076894402504</td><td>24.36345863342285</td><td>22.310304641723633</td><td>22.645065307617188</td><td>1434.5924914722711</td><td>1714.0643912301937</td><td>-1352.650301221391</td><td>0.7332167531267111</td><td>72.9844500528516</td><td>55025</td></tr>\n",
       "<tr><td>1.0</td><td>0.9998916387557983</td><td>0.45950639247894287</td><td>0.01782834529876709</td><td>1.0</td><td>0.015961702913045883</td><td>50.141298224156955</td><td>24.18175506591797</td><td>0.022626353427767754</td><td>1</td><td>0.028746116906404495</td><td>4000992891</td><td>0.7332437634468079</td><td>21.632795333862305</td><td>21.208419799804688</td><td>0.031201312318444252</td><td>-31.223030493731617</td><td>0.01782834529876709</td><td>22.819650650024414</td><td>20.980318069458008</td><td>21.208419799804688</td><td>1433.1377915933099</td><td>1716.028347821303</td><td>-1354.9544213523327</td><td>0.7332437875142535</td><td>71.29961939990133</td><td>55026</td></tr>\n",
       "<tr><td>1.0</td><td>1.0</td><td>0.35205867886543274</td><td>0.02455759048461914</td><td>1.0</td><td>0.028668764978647232</td><td>50.11357957420053</td><td>24.984437942504883</td><td>0.02892112359404564</td><td>1</td><td>0.058574188500642776</td><td>4000999493</td><td>0.7308648824691772</td><td>22.667383193969727</td><td>22.28604507446289</td><td>0.038533877581357956</td><td>-31.154491264230565</td><td>0.02455759048461914</td><td>23.720678329467773</td><td>22.134506225585938</td><td>22.28604507446289</td><td>1431.9870639854755</td><td>1712.970916318222</td><td>-1349.447244993398</td><td>0.7308649027739453</td><td>76.75136986804632</td><td>55027</td></tr>\n",
       "<tr><td>1.0</td><td>1.0</td><td>0.22496338188648224</td><td>0.027657756581902504</td><td>1.0</td><td>0.01899944245815277</td><td>50.14339408418509</td><td>24.41131591796875</td><td>0.018367912620306015</td><td>1</td><td>0.03381611406803131</td><td>4001000215</td><td>0.7333204746246338</td><td>21.47078514099121</td><td>20.99263572692871</td><td>0.03836165368556976</td><td>-31.188408453356356</td><td>0.027657756581902504</td><td>22.750415802001953</td><td>20.676761627197266</td><td>20.99263572692871</td><td>1433.4526814205547</td><td>1716.5374326034332</td><td>-1353.4866547920335</td><td>0.7333204862871059</td><td>71.51165682663007</td><td>55028</td></tr>\n",
       "<tr><td>0.9999995231628418</td><td>1.0</td><td>0.928878128528595</td><td>0.03325476124882698</td><td>1.0</td><td>0.02588525414466858</td><td>50.10986723212213</td><td>25.441946029663086</td><td>0.032323986291885376</td><td>1</td><td>0.0393594354391098</td><td>4001001262</td><td>0.732186496257782</td><td>22.846113204956055</td><td>22.42756462097168</td><td>0.08889973163604736</td><td>-31.175956170038692</td><td>0.03325476124882698</td><td>23.972017288208008</td><td>22.087085723876953</td><td>22.42756462097168</td><td>1433.8658077616087</td><td>1714.9915668326366</td><td>-1352.2662955270687</td><td>0.7321864932830335</td><td>72.93803228049474</td><td>55029</td></tr>\n",
       "<tr><td>1.0</td><td>1.0</td><td>0.1509992480278015</td><td>0.02389269508421421</td><td>1.0</td><td>0.01990796998143196</td><td>50.11392092094944</td><td>24.90711784362793</td><td>0.026100723072886467</td><td>1</td><td>0.041941557079553604</td><td>4001001437</td><td>0.6970883011817932</td><td>22.278226852416992</td><td>21.910131454467773</td><td>0.03779030218720436</td><td>-31.179508354685197</td><td>0.02389269508421421</td><td>23.43958854675293</td><td>21.58115005493164</td><td>21.910131454467773</td><td>1377.4802624339789</td><td>1647.7855413732395</td><td>-1299.3811379016286</td><td>0.6970882716987288</td><td>175.36307577450998</td><td>55030</td></tr>\n",
       "<tr><td>...</td><td>...</td><td>...</td><td>...</td><td>...</td><td>...</td><td>...</td><td>...</td><td>...</td><td>...</td><td>...</td><td>...</td><td>...</td><td>...</td><td>...</td><td>...</td><td>...</td><td>...</td><td>...</td><td>...</td><td>...</td><td>...</td><td>...</td><td>...</td><td>...</td><td>...</td><td>...</td></tr>\n",
       "<tr><td>0.5474071502685547</td><td>1.0</td><td>0.8174965381622314</td><td>0.04472403600811958</td><td>1.0</td><td>0.03740714490413666</td><td>50.19439057032176</td><td>26.171730041503906</td><td>0.0358344204723835</td><td>1</td><td>0.04795246943831444</td><td>4001316116</td><td>0.8211792707443237</td><td>23.2435359954834</td><td>22.584638595581055</td><td>0.0937279537320137</td><td>-31.178979617217657</td><td>0.04472403600811958</td><td>24.424175262451172</td><td>22.28626823425293</td><td>22.584638595581055</td><td>1567.3363913952467</td><td>1880.2504848426497</td><td>-1480.8419241032132</td><td>0.8211792905221533</td><td>175.37306664239983</td><td>55354</td></tr>\n",
       "<tr><td>1.0</td><td>0.5643091797828674</td><td>0.16612941026687622</td><td>0.01704634539783001</td><td>1.0</td><td>0.017037639394402504</td><td>50.21288838176941</td><td>24.074697494506836</td><td>0.017070084810256958</td><td>1</td><td>0.02326790615916252</td><td>4001330958</td><td>0.7948356866836548</td><td>21.359302520751953</td><td>20.703622817993164</td><td>0.030915871262550354</td><td>-31.197209664092064</td><td>0.01704634539783001</td><td>22.49334716796875</td><td>20.43475341796875</td><td>20.703622817993164</td><td>1532.7010893485917</td><td>1839.929715008803</td><td>-1449.724911971831</td><td>0.7948356913398076</td><td>113.82319412231816</td><td>55355</td></tr>\n",
       "<tr><td>1.0</td><td>0.6108939051628113</td><td>0.7332322597503662</td><td>0.037382494658231735</td><td>1.0</td><td>0.03498450294137001</td><td>50.210877444526226</td><td>25.727262496948242</td><td>0.04198503866791725</td><td>1</td><td>0.056023575365543365</td><td>4001330959</td><td>0.7941418886184692</td><td>22.913074493408203</td><td>22.247211456298828</td><td>0.0593206025660038</td><td>-31.199639085218347</td><td>0.037382494658231735</td><td>24.027957916259766</td><td>21.932390213012695</td><td>22.247211456298828</td><td>1532.6983384683099</td><td>1839.7946639799736</td><td>-1449.79912126568</td><td>0.7941418808929839</td><td>113.77089410468349</td><td>55356</td></tr>\n",
       "<tr><td>1.0</td><td>0.9121729731559753</td><td>0.2928985059261322</td><td>0.025207553058862686</td><td>1.0</td><td>0.02761588990688324</td><td>50.206601798113326</td><td>24.895170211791992</td><td>0.030101962387561798</td><td>1</td><td>0.03528432548046112</td><td>4001330961</td><td>0.7936003804206848</td><td>22.589569091796875</td><td>22.066884994506836</td><td>0.04857945442199707</td><td>-31.20008854394164</td><td>0.025207553058862686</td><td>23.662382125854492</td><td>21.84942626953125</td><td>22.066884994506836</td><td>1532.8321215132594</td><td>1839.6734103350573</td><td>-1449.821171290438</td><td>0.7936003869891366</td><td>113.77207051471315</td><td>55357</td></tr>\n",
       "<tr><td>0.9999194145202637</td><td>1.0</td><td>0.08765514194965363</td><td>0.04014167562127113</td><td>1.0</td><td>0.03482270985841751</td><td>50.18067931978282</td><td>25.217472076416016</td><td>0.049057453870773315</td><td>1</td><td>0.05279259756207466</td><td>4001508331</td><td>0.863419234752655</td><td>22.9887752532959</td><td>22.43850326538086</td><td>0.0457846075296402</td><td>-31.209363903948763</td><td>0.04014167562127113</td><td>24.04560661315918</td><td>22.286930084228516</td><td>22.43850326538086</td><td>1628.1085806833187</td><td>1952.1946436922317</td><td>-1539.6120957925286</td><td>0.8634192405565226</td><td>286.3691392669939</td><td>55358</td></tr>\n",
       "<tr><td>0.9996602535247803</td><td>0.6966453790664673</td><td>0.3065747618675232</td><td>0.04288408160209656</td><td>1.0</td><td>0.029958702623844147</td><td>50.10559076300748</td><td>25.686561584472656</td><td>0.030866816639900208</td><td>1</td><td>0.05090687796473503</td><td>4001527804</td><td>0.8517971634864807</td><td>23.062772750854492</td><td>22.444257736206055</td><td>0.0803535133600235</td><td>-31.109791301336948</td><td>0.04288408160209656</td><td>24.07699203491211</td><td>22.270954132080078</td><td>22.444257736206055</td><td>1612.8912267550618</td><td>1928.881277164943</td><td>-1516.7693999661526</td><td>0.8517971440808316</td><td>250.9016761669739</td><td>55359</td></tr>\n",
       "<tr><td>0.39110100269317627</td><td>0.9987658858299255</td><td>0.2916083335876465</td><td>0.03875403851270676</td><td>1.0</td><td>0.028652789071202278</td><td>50.12207781295811</td><td>25.604097366333008</td><td>0.05082953721284866</td><td>1</td><td>0.08661144226789474</td><td>4001536579</td><td>0.8529259562492371</td><td>23.209062576293945</td><td>22.600679397583008</td><td>0.056775033473968506</td><td>-31.110725625942532</td><td>0.03875403851270676</td><td>24.276823043823242</td><td>22.543455123901367</td><td>22.600679397583008</td><td>1612.2823365977113</td><td>1929.2648960167255</td><td>-1516.7779626980634</td><td>0.8529259290457654</td><td>250.81972591688347</td><td>55360</td></tr>\n",
       "<tr><td>1.0</td><td>0.9711225628852844</td><td>0.07204771786928177</td><td>0.01957879588007927</td><td>1.0</td><td>0.022494923323392868</td><td>50.20907270571189</td><td>24.89426612854004</td><td>0.032842110842466354</td><td>1</td><td>0.046849917620420456</td><td>4001539948</td><td>0.852651834487915</td><td>22.537614822387695</td><td>21.99761199951172</td><td>0.041033901274204254</td><td>-31.139181888430517</td><td>0.01957879588007927</td><td>23.647592544555664</td><td>21.89897346496582</td><td>21.99761199951172</td><td>1613.7819102112676</td><td>1936.9852415272887</td><td>-1522.7052500550176</td><td>0.8526518100707732</td><td>259.7802860681587</td><td>55361</td></tr>\n",
       "<tr><td>0.9091205596923828</td><td>1.0</td><td>0.6428130865097046</td><td>0.037593942135572433</td><td>1.0</td><td>0.033799659460783005</td><td>50.11736750440988</td><td>26.10552978515625</td><td>0.04283425584435463</td><td>1</td><td>0.048675574362277985</td><td>4001935015</td><td>0.9125492572784424</td><td>23.198959350585938</td><td>22.539764404296875</td><td>0.06851425766944885</td><td>-31.161554223515004</td><td>0.037593942135572433</td><td>24.26841163635254</td><td>22.175111770629883</td><td>22.539764404296875</td><td>1707.5190154599472</td><td>2043.0074342539613</td><td>-1609.291270081426</td><td>0.91254925225592</td><td>425.6168004126171</td><td>55362</td></tr>\n",
       "<tr><td>1.0</td><td>1.0</td><td>0.49896153807640076</td><td>0.027903636917471886</td><td>1.0</td><td>0.027233723551034927</td><td>50.13038605967901</td><td>24.976350784301758</td><td>0.032369464635849</td><td>1</td><td>0.04047205299139023</td><td>4001943549</td><td>0.9302839040756226</td><td>22.643936157226562</td><td>22.084060668945312</td><td>0.05532882735133171</td><td>-31.152956119655897</td><td>0.027903636917471886</td><td>23.738018035888672</td><td>21.797372817993164</td><td>22.084060668945312</td><td>1733.3441076144368</td><td>2074.7909330985917</td><td>-1633.45947265625</td><td>0.9302839325268308</td><td>473.16301395072577</td><td>55363</td></tr>\n",
       "</table>"
      ],
      "text/plain": [
       "<Table length=343>\n",
       "   theta_i_member     theta_r_member   ...    dcmv_to_bcg     index_reorg_member\n",
       "      float64            float64       ...      float64             int64       \n",
       "------------------- ------------------ ... ------------------ ------------------\n",
       "                1.0                1.0 ...  578.8003839434352              55021\n",
       "                1.0 0.9999604821205139 ...  370.2165605163865              55022\n",
       "                1.0  0.920137345790863 ...  191.8278493143281              55023\n",
       "                1.0                1.0 ... 238.94061894453034              55024\n",
       "0.06089901924133301 0.9992694854736328 ...   72.9844500528516              55025\n",
       "                1.0 0.9998916387557983 ...  71.29961939990133              55026\n",
       "                1.0                1.0 ...  76.75136986804632              55027\n",
       "                1.0                1.0 ...  71.51165682663007              55028\n",
       " 0.9999995231628418                1.0 ...  72.93803228049474              55029\n",
       "                1.0                1.0 ... 175.36307577450998              55030\n",
       "                ...                ... ...                ...                ...\n",
       " 0.5474071502685547                1.0 ... 175.37306664239983              55354\n",
       "                1.0 0.5643091797828674 ... 113.82319412231816              55355\n",
       "                1.0 0.6108939051628113 ... 113.77089410468349              55356\n",
       "                1.0 0.9121729731559753 ... 113.77207051471315              55357\n",
       " 0.9999194145202637                1.0 ...  286.3691392669939              55358\n",
       " 0.9996602535247803 0.6966453790664673 ...  250.9016761669739              55359\n",
       "0.39110100269317627 0.9987658858299255 ... 250.81972591688347              55360\n",
       "                1.0 0.9711225628852844 ...  259.7802860681587              55361\n",
       " 0.9091205596923828                1.0 ...  425.6168004126171              55362\n",
       "                1.0                1.0 ... 473.16301395072577              55363"
      ]
     },
     "execution_count": 61,
     "metadata": {},
     "output_type": "execute_result"
    }
   ],
   "source": [
    "# this is the cluster (cluster ID 1) that I used in my gcr test, also found in this folder\n",
    "one_cluster"
   ]
  },
  {
   "cell_type": "code",
   "execution_count": 69,
   "metadata": {},
   "outputs": [
    {
     "name": "stdout",
     "output_type": "stream",
     "text": [
      "The median comoving radius for cluster ID 1 is 1.3470227422157703.\n"
     ]
    },
    {
     "data": {
      "image/png": "[encoded data removed]",
      "text/plain": [
       "<Figure size 720x518.4 with 1 Axes>"
      ]
     },
     "metadata": {
      "needs_background": "light"
     },
     "output_type": "display_data"
    }
   ],
   "source": [
    "# extract one_cluster's dcmv values\n",
    "dcmv_redM_id_1 = one_cluster['dcmv_to_bcg']\n",
    "\n",
    "# extract median\n",
    "dcmv_redM_id_1_med = np.median(dcmv_redM_id_1)\n",
    "\n",
    "print(\"The median comoving radius for cluster ID {} is {}.\".format(cluster, dcmv_redM_id_1_med))\n",
    "\n",
    "# get vertical lines at these values\n",
    "y_1 = np.linspace(-1, 1e5, 5)\n",
    "x_1 = 0*y_1 + dcmv_redM_id_1_med\n",
    "\n",
    "fig = plt.figure(figsize=(10,7.2))\n",
    "\n",
    "# histogram\n",
    "dcmv_1_h = plt.hist(dcmv_redM_id_1, bins=50, color='b', histtype=u'step', label='dcmv_1_h')\n",
    "\n",
    "# lines\n",
    "dcmv_1_med = plt.plot(x_1, y_1, c='red', label='dcmv_1_h median') \n",
    "\n",
    "# title and axes\n",
    "plt.title(\"Distribution of Cluster ID {}'s Comoving Radii\".format(cluster), fontsize=20)\n",
    "plt.xlabel(r'$R_{\\rm cmv}$ ($\\rm Mpc$ $\\rm h^{-1}$)', fontsize=14)\n",
    "plt.ylabel(r'Frequency', fontsize=14)\n",
    "\n",
    "plt.legend(loc='upper right', fontsize=12)\n",
    "plt.ylim(1e-2,3.5e2)\n",
    "plt.show()"
   ]
  },
  {
   "cell_type": "markdown",
   "metadata": {},
   "source": [
   "The other graph can be found [here](https://github.com/acloonan/dc2-cluster-triaxiality/blob/master/compile-triaxiality-data/member-distribution/gcr_one_cluster_test.ipynb), near the end of the file. We can see that the two graphs are identical to one another. For this cluster, at least, extracting data from HDF5 files worked properly. I had more confidence that the correct data for this one cluster was extracted using GCR than H5py, but there appears to have been no difference between the two methods. So, since H5py is far less costly, I believe we should use it.\n",
   "\n",
   "I think this also may give some evidence that the redMaPPer member data has assigned some galaxies to clusters that are ridiculously far away. I'm unfamiliar with a lot of details regarding the redMaPPer pipeline, but I wonder if it assigns members to clusters primarily based on angular separation as opposed to other quantities like lensed redshift."
   ]
  },
  {
   "cell_type": "code",
   "execution_count": null,
   "metadata": {},
   "outputs": [],
   "source": []
  }
 ],
 "metadata": {
  "kernelspec": {
   "display_name": "desc-stack",
   "language": "python",
   "name": "desc-stack"
  },
  "language_info": {
   "codemirror_mode": {
    "name": "ipython",
    "version": 3
   },
   "file_extension": ".py",
   "mimetype": "text/x-python",
   "name": "python",
   "nbconvert_exporter": "python",
   "pygments_lexer": "ipython3",
   "version": "3.7.2"
  }
 },
 "nbformat": 4,
 "nbformat_minor": 4
}
